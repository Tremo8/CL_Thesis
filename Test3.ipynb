{
  "cells": [
    {
      "cell_type": "markdown",
      "metadata": {
        "id": "dwj4CkTzzcWr"
      },
      "source": [
        "# CL Test"
      ]
    },
    {
      "cell_type": "markdown",
      "metadata": {
        "id": "XPXJaZZjzcWu"
      },
      "source": [
        "## Installation\n",
        "Install all the necessary library."
      ]
    },
    {
      "cell_type": "code",
      "execution_count": null,
      "metadata": {
        "colab": {
          "base_uri": "https://localhost:8080/",
          "height": 1000
        },
        "id": "WzF55R6dzcWv",
        "outputId": "ed1b37a1-f0be-4e6b-fb9a-a205fcb1ff3a"
      },
      "outputs": [],
      "source": [
        "! pip install avalanche-lib==0.3.1\n",
        "! pip install micromind"
      ]
    },
    {
      "cell_type": "code",
      "execution_count": 1,
      "metadata": {
        "id": "-E3yHNRPzcWw"
      },
      "outputs": [
        {
          "name": "stderr",
          "output_type": "stream",
          "text": [
            "c:\\Users\\matte\\anaconda3\\lib\\site-packages\\tqdm\\auto.py:21: TqdmWarning: IProgress not found. Please update jupyter and ipywidgets. See https://ipywidgets.readthedocs.io/en/stable/user_install.html\n",
            "  from .autonotebook import tqdm as notebook_tqdm\n"
          ]
        }
      ],
      "source": [
        "import torch\n",
        "import torch.nn as nn\n",
        "from torch.optim import SGD, Adam\n",
        "\n",
        "import numpy as np\n",
        "import matplotlib.pyplot as plt\n",
        "\n",
        "from avalanche.benchmarks.classic import SplitMNIST\n",
        "from avalanche.models import SimpleMLP\n",
        "from avalanche.training.storage_policy import ReservoirSamplingBuffer\n",
        "\n",
        "\n",
        "from joint_training import JointTraining\n",
        "from fine_tuning import FineTuning\n",
        "from comulative import Comulative\n",
        "from replay import Replay\n",
        "from latent_reply import LatentReplay\n",
        "from phinet_v2 import PhiNet_v2\n",
        "\n",
        "from micromind import PhiNet"
      ]
    },
    {
      "cell_type": "code",
      "execution_count": 2,
      "metadata": {
        "colab": {
          "base_uri": "https://localhost:8080/"
        },
        "id": "n26Lo13lzcWx",
        "outputId": "1bb52ec3-c6d6-48b4-cfb6-c89056301ac4"
      },
      "outputs": [
        {
          "name": "stdout",
          "output_type": "stream",
          "text": [
            "Device: cpu\n"
          ]
        }
      ],
      "source": [
        "device = torch.device(\"cuda\" if torch.cuda.is_available() else \"cpu\")\n",
        "\n",
        "print(f\"Device: {device}\")"
      ]
    },
    {
      "cell_type": "code",
      "execution_count": 3,
      "metadata": {
        "colab": {
          "base_uri": "https://localhost:8080/"
        },
        "id": "CMHfMPiWzcWy",
        "outputId": "7c7f3bf8-1e0f-4978-e8db-10a8ccc14c45"
      },
      "outputs": [
        {
          "data": {
            "text/plain": [
              "<torch._C.Generator at 0x251cde81f90>"
            ]
          },
          "execution_count": 3,
          "metadata": {},
          "output_type": "execute_result"
        }
      ],
      "source": [
        "torch.manual_seed(1222)"
      ]
    },
    {
      "cell_type": "markdown",
      "metadata": {
        "id": "5KDShngxzcWy"
      },
      "source": [
        "## Benchmark"
      ]
    },
    {
      "cell_type": "code",
      "execution_count": 4,
      "metadata": {
        "colab": {
          "base_uri": "https://localhost:8080/"
        },
        "id": "6i52l8jKzcWy",
        "outputId": "3eeccf85-d327-4f7d-e7e2-ecff2523a104"
      },
      "outputs": [],
      "source": [
        "split_mnist = SplitMNIST(n_experiences=5, seed=1222, return_task_id = True)\n",
        "\n",
        "# recovering the train and test streams\n",
        "train_stream = split_mnist.train_stream\n",
        "test_stream = split_mnist.test_stream"
      ]
    },
    {
      "cell_type": "markdown",
      "metadata": {
        "id": "GApUVD8lzcWz"
      },
      "source": [
        "## Training"
      ]
    },
    {
      "cell_type": "markdown",
      "metadata": {
        "id": "6qwiSC9dzcW0"
      },
      "source": [
        "### Training Parameters"
      ]
    },
    {
      "cell_type": "code",
      "execution_count": 5,
      "metadata": {
        "id": "AvfBVXfazcW1"
      },
      "outputs": [],
      "source": [
        "criterion = nn.CrossEntropyLoss()\n",
        "\n",
        "# Define other necessary parameters\n",
        "train_mb_size = 128\n",
        "eval_mb_size = 128"
      ]
    },
    {
      "cell_type": "markdown",
      "metadata": {
        "id": "NWJxGNh9zcW2"
      },
      "source": [
        "### Fine Tuning Strategy"
      ]
    },
    {
      "cell_type": "markdown",
      "metadata": {
        "id": "Z2CDsS-3zcW2"
      },
      "source": [
        "#### Weight_decay = 0"
      ]
    },
    {
      "cell_type": "code",
      "execution_count": null,
      "metadata": {
        "colab": {
          "base_uri": "https://localhost:8080/"
        },
        "id": "vJFWY3eVzcW2",
        "outputId": "aefbc0ec-9c9c-4ef4-d98c-be7454e8027d"
      },
      "outputs": [],
      "source": [
        "#model1 = SimpleMLP(num_classes=10).to(device)\n",
        "model1 = PhiNet(input_shape = (1, 28, 28), alpha = 0.5, beta = 1, t_zero = 6,num_layers=4 ,include_top = True, num_classes = 10).to(device)\n",
        "\n",
        "#optimizer1 = SGD(model1.parameters(), lr=0.01, momentum=0.9)\n",
        "optimizer1 = Adam(model1.parameters(), lr=0.01, weight_decay=0)\n",
        "\n",
        "train_epochs = 4\n",
        "\n",
        "fine_tuning = FineTuning(\n",
        "    model=model1,\n",
        "    optimizer=optimizer1,\n",
        "    criterion=criterion,\n",
        "    train_mb_size=train_mb_size,\n",
        "    train_epochs=train_epochs,\n",
        "    eval_mb_size=eval_mb_size,\n",
        "    device=device\n",
        ")\n",
        "\n",
        "fine_tuning.train(train_stream)\n",
        "fine_tuning.test(test_stream)"
      ]
    },
    {
      "cell_type": "markdown",
      "metadata": {
        "id": "tZqniv9KzcW3"
      },
      "source": [
        "#### Weight_decay = 0.01"
      ]
    },
    {
      "cell_type": "code",
      "execution_count": null,
      "metadata": {
        "colab": {
          "base_uri": "https://localhost:8080/"
        },
        "id": "obaIj8FmzcW3",
        "outputId": "1088a8b5-3a6d-4548-d470-cb5d2844a2b1"
      },
      "outputs": [],
      "source": [
        "#model1 = SimpleMLP(num_classes=10).to(device)\n",
        "model1 = PhiNet(input_shape = (1, 28, 28), alpha = 0.5, beta = 1, t_zero = 6,num_layers=4 ,include_top = True, num_classes = 10).to(device)\n",
        "\n",
        "#optimizer1 = SGD(model1.parameters(), lr=0.01, momentum=0.9)\n",
        "optimizer1 = Adam(model1.parameters(), lr=0.01, weight_decay=0.01)\n",
        "\n",
        "train_epochs = 4\n",
        "\n",
        "fine_tuning = FineTuning(\n",
        "    model=model1,\n",
        "    optimizer=optimizer1,\n",
        "    criterion=criterion,\n",
        "    train_mb_size=train_mb_size,\n",
        "    train_epochs=train_epochs,\n",
        "    eval_mb_size=eval_mb_size,\n",
        "    device=device\n",
        ")\n",
        "\n",
        "fine_tuning.train(train_stream)\n",
        "fine_tuning.test(test_stream)"
      ]
    },
    {
      "cell_type": "markdown",
      "metadata": {
        "id": "S-tRVDugzcW3"
      },
      "source": [
        "### Joint Training Strategy"
      ]
    },
    {
      "cell_type": "markdown",
      "metadata": {
        "id": "PVh_gD8UzcW3"
      },
      "source": [
        "#### Weight_decay = 0"
      ]
    },
    {
      "cell_type": "code",
      "execution_count": null,
      "metadata": {
        "colab": {
          "base_uri": "https://localhost:8080/"
        },
        "id": "wsNBEspqzcW4",
        "outputId": "09b05158-1326-4143-fd26-ab0cd41a54bb"
      },
      "outputs": [],
      "source": [
        "#model2 = SimpleMLP(num_classes=10).to(device)\n",
        "model2 = PhiNet(input_shape = (1, 28, 28), alpha = 0.5, beta = 1, t_zero = 6,num_layers=4 ,include_top = True, num_classes = 10).to(device)\n",
        "\n",
        "#optimizer2 = SGD(model2.parameters(), lr=0.01, momentum=0.9)\n",
        "optimizer2 = Adam(model2.parameters(), lr=0.01, weight_decay=0)\n",
        "\n",
        "train_epochs = 4\n",
        "\n",
        "joint_training = JointTraining(\n",
        "    model=model2,\n",
        "    optimizer=optimizer2,\n",
        "    criterion=criterion,\n",
        "    train_mb_size=train_mb_size,\n",
        "    train_epochs=train_epochs,\n",
        "    eval_mb_size=eval_mb_size,\n",
        "    device=device\n",
        ")\n",
        "\n",
        "joint_training.train(train_stream)\n",
        "joint_training.test(test_stream)"
      ]
    },
    {
      "attachments": {},
      "cell_type": "markdown",
      "metadata": {
        "id": "TyLW99zOzcW4"
      },
      "source": [
        "#### Weight_decay = 0.01"
      ]
    },
    {
      "cell_type": "code",
      "execution_count": null,
      "metadata": {
        "colab": {
          "base_uri": "https://localhost:8080/"
        },
        "id": "jabYcXT_zcW4",
        "outputId": "06ff893b-893e-4772-d85b-d120fc4c8a74"
      },
      "outputs": [],
      "source": [
        "#model2 = SimpleMLP(num_classes=10).to(device)\n",
        "model2 = PhiNet(input_shape = (1, 28, 28), alpha = 0.5, beta = 1, t_zero = 6,num_layers=4 ,include_top = True, num_classes = 10).to(device)\n",
        "\n",
        "#optimizer2 = SGD(model2.parameters(), lr=0.01, momentum=0.9)\n",
        "optimizer2 = Adam(model2.parameters(), lr=0.01, weight_decay=0.01)\n",
        "\n",
        "train_epochs = 4\n",
        "\n",
        "joint_training = JointTraining(\n",
        "    model=model2,\n",
        "    optimizer=optimizer2,\n",
        "    criterion=criterion,\n",
        "    train_mb_size=train_mb_size,\n",
        "    train_epochs=train_epochs,\n",
        "    eval_mb_size=eval_mb_size,\n",
        "    device=device\n",
        ")\n",
        "\n",
        "joint_training.train(train_stream)\n",
        "joint_training.test(test_stream)"
      ]
    },
    {
      "cell_type": "markdown",
      "metadata": {
        "id": "ggTVXamGzcW4"
      },
      "source": [
        "### Comulative Strategy"
      ]
    },
    {
      "cell_type": "markdown",
      "metadata": {
        "id": "XkonLBcvzcW5"
      },
      "source": [
        "#### Weight_decay = 0"
      ]
    },
    {
      "cell_type": "code",
      "execution_count": null,
      "metadata": {
        "colab": {
          "base_uri": "https://localhost:8080/"
        },
        "id": "I2HgeprNzcW5",
        "outputId": "9edf3727-2a0b-45fc-f6e3-92bad86df6d5"
      },
      "outputs": [],
      "source": [
        "#model3 = SimpleMLP(num_classes=10).to(device)\n",
        "model3 = PhiNet(input_shape = (1, 28, 28), alpha = 0.5, beta = 1, t_zero = 6,num_layers=4 ,include_top = True, num_classes = 10).to(device)\n",
        "\n",
        "#optimizer3 = SGD(model3.parameters(), lr=0.01, momentum=0.9)\n",
        "optimizer3 = Adam(model3.parameters(), lr=0.01, weight_decay=0)\n",
        "\n",
        "train_epochs = 4\n",
        "\n",
        "comulative = Comulative(\n",
        "    model=model3,\n",
        "    optimizer=optimizer3,\n",
        "    criterion=criterion,\n",
        "    train_mb_size=train_mb_size,\n",
        "    train_epochs=train_epochs,\n",
        "    eval_mb_size=eval_mb_size,\n",
        "    device=device\n",
        ")\n",
        "\n",
        "comulative.train(train_stream)\n",
        "comulative.test(test_stream)"
      ]
    },
    {
      "cell_type": "markdown",
      "metadata": {
        "id": "W96rSuGTzcW5"
      },
      "source": [
        "#### Weight_decay = 0.01"
      ]
    },
    {
      "cell_type": "code",
      "execution_count": null,
      "metadata": {
        "colab": {
          "base_uri": "https://localhost:8080/"
        },
        "id": "2DlqHSKzzcW5",
        "outputId": "2355c444-4cb4-4473-e842-e678d2a0d57c"
      },
      "outputs": [],
      "source": [
        "#model3 = SimpleMLP(num_classes=10).to(device)\n",
        "model3 = PhiNet(input_shape = (1, 28, 28), alpha = 0.5, beta = 1, t_zero = 6,num_layers=4 ,include_top = True, num_classes = 10).to(device)\n",
        "\n",
        "#optimizer3 = SGD(model3.parameters(), lr=0.01, momentum=0.9)\n",
        "optimizer3 = Adam(model3.parameters(), lr=0.01, weight_decay=0.01)\n",
        "\n",
        "train_epochs = 4\n",
        "\n",
        "comulative = Comulative(\n",
        "    model=model3,\n",
        "    optimizer=optimizer3,\n",
        "    criterion=criterion,\n",
        "    train_mb_size=train_mb_size,\n",
        "    train_epochs=train_epochs,\n",
        "    eval_mb_size=eval_mb_size,\n",
        "    device=device\n",
        ")\n",
        "\n",
        "comulative.train(train_stream)\n",
        "comulative.test(test_stream)"
      ]
    },
    {
      "cell_type": "markdown",
      "metadata": {
        "id": "3tS1PK2uzcW6"
      },
      "source": [
        "### Replay Strategy"
      ]
    },
    {
      "cell_type": "markdown",
      "metadata": {
        "id": "jflEY8tXzcW6"
      },
      "source": [
        "#### Weight_decay = 0"
      ]
    },
    {
      "cell_type": "code",
      "execution_count": null,
      "metadata": {
        "colab": {
          "base_uri": "https://localhost:8080/"
        },
        "id": "eE0_3a8DzcW6",
        "outputId": "d3fb63f6-0afa-4862-f77f-7af05884f92f"
      },
      "outputs": [],
      "source": [
        "#model4 = SimpleMLP(num_classes=10).to(device)\n",
        "model4 = PhiNet(input_shape = (1, 28, 28), alpha = 0.5, beta = 1, t_zero = 6,num_layers=4 ,include_top = True, num_classes = 10).to(device)\n",
        "\n",
        "#optimizer4 = SGD(model4.parameters(), lr=0.01, momentum=0.9)\n",
        "optimizer4 = Adam(model4.parameters(), lr=0.01, weight_decay=0)\n",
        "\n",
        "storage_p = ReservoirSamplingBuffer(max_size=1500)\n",
        "\n",
        "train_epochs = 4\n",
        "\n",
        "replay = Replay(\n",
        "    model=model4,\n",
        "    optimizer=optimizer4,\n",
        "    criterion=criterion,\n",
        "    train_mb_size=train_mb_size,\n",
        "    train_epochs=train_epochs,\n",
        "    eval_mb_size=eval_mb_size,\n",
        "    storage_policy = storage_p,\n",
        "    device=device\n",
        ")\n",
        "\n",
        "replay.train(train_stream)\n",
        "replay.test(test_stream)"
      ]
    },
    {
      "cell_type": "markdown",
      "metadata": {
        "id": "S_DBzGi6zcW6"
      },
      "source": [
        "#### Weight_decay = 0.01"
      ]
    },
    {
      "cell_type": "code",
      "execution_count": null,
      "metadata": {
        "colab": {
          "base_uri": "https://localhost:8080/"
        },
        "id": "DPxIDm8KzcW6",
        "outputId": "e784dc5b-ef54-4983-cd9e-e683d2855a5e"
      },
      "outputs": [],
      "source": [
        "#model4 = SimpleMLP(num_classes=10).to(device)\n",
        "model4 = PhiNet(input_shape = (1, 28, 28), alpha = 0.5, beta = 1, t_zero = 6,num_layers=4 ,include_top = True, num_classes = 10).to(device)\n",
        "\n",
        "#optimizer4 = SGD(model4.parameters(), lr=0.01, momentum=0.9)\n",
        "optimizer4 = Adam(model4.parameters(), lr=0.01, weight_decay=0.01)\n",
        "\n",
        "storage_p = ReservoirSamplingBuffer(max_size=1500)\n",
        "\n",
        "train_epochs = 4\n",
        "\n",
        "replay = Replay(\n",
        "    model=model4,\n",
        "    optimizer=optimizer4,\n",
        "    criterion=criterion,\n",
        "    train_mb_size=train_mb_size,\n",
        "    train_epochs=train_epochs,\n",
        "    eval_mb_size=eval_mb_size,\n",
        "    storage_policy = storage_p,\n",
        "    device=device\n",
        ")\n",
        "\n",
        "replay.train(train_stream)\n",
        "replay.test(test_stream)"
      ]
    },
    {
      "attachments": {},
      "cell_type": "markdown",
      "metadata": {},
      "source": [
        "### Latent Replay Strategy"
      ]
    },
    {
      "cell_type": "code",
      "execution_count": null,
      "metadata": {},
      "outputs": [],
      "source": [
        "print(device)"
      ]
    },
    {
      "cell_type": "code",
      "execution_count": 6,
      "metadata": {},
      "outputs": [
        {
          "name": "stdout",
          "output_type": "stream",
          "text": [
            "Start of the training process...\n",
            "Training of the experience with class:  [3, 4]\n",
            "current_batch_mb_size:  128\n",
            "replay_mb_size:  0\n"
          ]
        },
        {
          "ename": "KeyboardInterrupt",
          "evalue": "",
          "output_type": "error",
          "traceback": [
            "\u001b[1;31m---------------------------------------------------------------------------\u001b[0m",
            "\u001b[1;31mKeyboardInterrupt\u001b[0m                         Traceback (most recent call last)",
            "Cell \u001b[1;32mIn[6], line 22\u001b[0m\n\u001b[0;32m      7\u001b[0m train_epochs \u001b[39m=\u001b[39m \u001b[39m4\u001b[39m\n\u001b[0;32m      9\u001b[0m latent_replay \u001b[39m=\u001b[39m LatentReplay(\n\u001b[0;32m     10\u001b[0m     model\u001b[39m=\u001b[39mmodel4,\n\u001b[0;32m     11\u001b[0m     optimizer\u001b[39m=\u001b[39moptimizer4,\n\u001b[1;32m   (...)\u001b[0m\n\u001b[0;32m     19\u001b[0m     device\u001b[39m=\u001b[39mdevice\n\u001b[0;32m     20\u001b[0m )\n\u001b[1;32m---> 22\u001b[0m latent_replay\u001b[39m.\u001b[39;49mtrain(train_stream)\n",
            "File \u001b[1;32mc:\\Users\\matte\\OneDrive - Università degli Studi di Padova\\Control System Engineering\\Thesis\\Test Avalanche\\Project\\latent_reply.py:139\u001b[0m, in \u001b[0;36mLatentReplay.train\u001b[1;34m(self, dataset)\u001b[0m\n\u001b[0;32m    137\u001b[0m \u001b[39mfor\u001b[39;00m epoch \u001b[39min\u001b[39;00m \u001b[39mrange\u001b[39m(\u001b[39mself\u001b[39m\u001b[39m.\u001b[39mtrain_epochs):\n\u001b[0;32m    138\u001b[0m     \u001b[39mself\u001b[39m\u001b[39m.\u001b[39mtrain_exp_epochs \u001b[39m=\u001b[39m epoch\n\u001b[1;32m--> 139\u001b[0m     \u001b[39mself\u001b[39;49m\u001b[39m.\u001b[39;49mtraining_epoch(train_loader)\n\u001b[0;32m    140\u001b[0m \u001b[39mself\u001b[39m\u001b[39m.\u001b[39m_after_training_exp(exp)\n\u001b[0;32m    141\u001b[0m \u001b[39mself\u001b[39m\u001b[39m.\u001b[39mtrain_exp_counter \u001b[39m+\u001b[39m\u001b[39m=\u001b[39m \u001b[39m1\u001b[39m\n",
            "File \u001b[1;32mc:\\Users\\matte\\OneDrive - Università degli Studi di Padova\\Control System Engineering\\Thesis\\Test Avalanche\\Project\\latent_reply.py:199\u001b[0m, in \u001b[0;36mLatentReplay.training_epoch\u001b[1;34m(self, dataloader)\u001b[0m\n\u001b[0;32m    195\u001b[0m \u001b[39m# Loss & Backward\u001b[39;00m\n\u001b[0;32m    196\u001b[0m \u001b[39m# We don't need to handle latent replay, as self.mb_y already\u001b[39;00m\n\u001b[0;32m    197\u001b[0m \u001b[39m# contains both current and replay labels.\u001b[39;00m\n\u001b[0;32m    198\u001b[0m \u001b[39mself\u001b[39m\u001b[39m.\u001b[39mloss \u001b[39m=\u001b[39m \u001b[39mself\u001b[39m\u001b[39m.\u001b[39mcriterion(\u001b[39mself\u001b[39m\u001b[39m.\u001b[39mmb_output, \u001b[39mself\u001b[39m\u001b[39m.\u001b[39mmbatch[\u001b[39m1\u001b[39m])\n\u001b[1;32m--> 199\u001b[0m \u001b[39mself\u001b[39;49m\u001b[39m.\u001b[39;49mloss\u001b[39m.\u001b[39;49mbackward()\n\u001b[0;32m    201\u001b[0m \u001b[39m# Optimization step\u001b[39;00m\n\u001b[0;32m    202\u001b[0m \u001b[39mself\u001b[39m\u001b[39m.\u001b[39moptimizer\u001b[39m.\u001b[39mstep()\n",
            "File \u001b[1;32mc:\\Users\\matte\\anaconda3\\lib\\site-packages\\torch\\_tensor.py:487\u001b[0m, in \u001b[0;36mTensor.backward\u001b[1;34m(self, gradient, retain_graph, create_graph, inputs)\u001b[0m\n\u001b[0;32m    477\u001b[0m \u001b[39mif\u001b[39;00m has_torch_function_unary(\u001b[39mself\u001b[39m):\n\u001b[0;32m    478\u001b[0m     \u001b[39mreturn\u001b[39;00m handle_torch_function(\n\u001b[0;32m    479\u001b[0m         Tensor\u001b[39m.\u001b[39mbackward,\n\u001b[0;32m    480\u001b[0m         (\u001b[39mself\u001b[39m,),\n\u001b[1;32m   (...)\u001b[0m\n\u001b[0;32m    485\u001b[0m         inputs\u001b[39m=\u001b[39minputs,\n\u001b[0;32m    486\u001b[0m     )\n\u001b[1;32m--> 487\u001b[0m torch\u001b[39m.\u001b[39;49mautograd\u001b[39m.\u001b[39;49mbackward(\n\u001b[0;32m    488\u001b[0m     \u001b[39mself\u001b[39;49m, gradient, retain_graph, create_graph, inputs\u001b[39m=\u001b[39;49minputs\n\u001b[0;32m    489\u001b[0m )\n",
            "File \u001b[1;32mc:\\Users\\matte\\anaconda3\\lib\\site-packages\\torch\\autograd\\__init__.py:200\u001b[0m, in \u001b[0;36mbackward\u001b[1;34m(tensors, grad_tensors, retain_graph, create_graph, grad_variables, inputs)\u001b[0m\n\u001b[0;32m    195\u001b[0m     retain_graph \u001b[39m=\u001b[39m create_graph\n\u001b[0;32m    197\u001b[0m \u001b[39m# The reason we repeat same the comment below is that\u001b[39;00m\n\u001b[0;32m    198\u001b[0m \u001b[39m# some Python versions print out the first line of a multi-line function\u001b[39;00m\n\u001b[0;32m    199\u001b[0m \u001b[39m# calls in the traceback and some print out the last line\u001b[39;00m\n\u001b[1;32m--> 200\u001b[0m Variable\u001b[39m.\u001b[39;49m_execution_engine\u001b[39m.\u001b[39;49mrun_backward(  \u001b[39m# Calls into the C++ engine to run the backward pass\u001b[39;49;00m\n\u001b[0;32m    201\u001b[0m     tensors, grad_tensors_, retain_graph, create_graph, inputs,\n\u001b[0;32m    202\u001b[0m     allow_unreachable\u001b[39m=\u001b[39;49m\u001b[39mTrue\u001b[39;49;00m, accumulate_grad\u001b[39m=\u001b[39;49m\u001b[39mTrue\u001b[39;49;00m)\n",
            "\u001b[1;31mKeyboardInterrupt\u001b[0m: "
          ]
        }
      ],
      "source": [
        "#model4 = SimpleMLP(num_classes=10).to(device)\n",
        "model4 = PhiNet_v2(pretrained=\"AdamWeghtDecay.pth\", device = device, latent_layer_num=2).to(device)\n",
        "\n",
        "#optimizer4 = SGD(model4.parameters(), lr=0.01, momentum=0.9)\n",
        "optimizer4 = Adam(model4.parameters(), lr=0.01, weight_decay=0)\n",
        "\n",
        "train_epochs = 4\n",
        "\n",
        "latent_replay = LatentReplay(\n",
        "    model=model4,\n",
        "    optimizer=optimizer4,\n",
        "    criterion=criterion,\n",
        "    train_mb_size=train_mb_size,\n",
        "    train_epochs=train_epochs,\n",
        "    eval_mb_size=eval_mb_size,\n",
        "    rm_size = 1500,\n",
        "    latent_layer_num = 1,\n",
        "    freeze_below_layer = \"lat_features.1.5.bias\",\n",
        "    device=device\n",
        ")\n",
        "\n",
        "latent_replay.train(train_stream)\n",
        "#latent_replay.test(test_stream)"
      ]
    }
  ],
  "metadata": {
    "accelerator": "GPU",
    "colab": {
      "gpuType": "T4",
      "provenance": [],
      "toc_visible": true
    },
    "kernelspec": {
      "display_name": "Python 3",
      "name": "python3"
    },
    "language_info": {
      "codemirror_mode": {
        "name": "ipython",
        "version": 3
      },
      "file_extension": ".py",
      "mimetype": "text/x-python",
      "name": "python",
      "nbconvert_exporter": "python",
      "pygments_lexer": "ipython3",
      "version": "3.10.9"
    },
    "orig_nbformat": 4
  },
  "nbformat": 4,
  "nbformat_minor": 0
}
