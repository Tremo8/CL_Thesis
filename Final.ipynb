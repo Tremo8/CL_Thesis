{
  "cells": [
    {
      "cell_type": "markdown",
      "metadata": {
        "id": "dwj4CkTzzcWr"
      },
      "source": [
        "# CL Test"
      ]
    },
    {
      "cell_type": "markdown",
      "metadata": {
        "id": "XPXJaZZjzcWu"
      },
      "source": [
        "## Installation\n",
        "Install all the necessary library."
      ]
    },
    {
      "cell_type": "code",
      "execution_count": null,
      "metadata": {
        "colab": {
          "base_uri": "https://localhost:8080/",
          "height": 1000
        },
        "id": "WzF55R6dzcWv",
        "outputId": "e9bee3e4-c80b-4e45-f35b-b03d1af3cd92"
      },
      "outputs": [],
      "source": [
        "! pip install avalanche-lib==0.3.1\n",
        "! pip install micromind"
      ]
    },
    {
      "cell_type": "code",
      "execution_count": 1,
      "metadata": {
        "colab": {
          "base_uri": "https://localhost:8080/"
        },
        "id": "-E3yHNRPzcWw",
        "outputId": "a4e46964-1ee3-4e51-d6a4-e372361461af"
      },
      "outputs": [
        {
          "name": "stderr",
          "output_type": "stream",
          "text": [
            "c:\\Users\\matte\\anaconda3\\lib\\site-packages\\tqdm\\auto.py:21: TqdmWarning: IProgress not found. Please update jupyter and ipywidgets. See https://ipywidgets.readthedocs.io/en/stable/user_install.html\n",
            "  from .autonotebook import tqdm as notebook_tqdm\n"
          ]
        },
        {
          "name": "stdout",
          "output_type": "stream",
          "text": [
            "Device: cpu\n"
          ]
        },
        {
          "data": {
            "text/plain": [
              "<torch._C.Generator at 0x2116c8fdfb0>"
            ]
          },
          "execution_count": 1,
          "metadata": {},
          "output_type": "execute_result"
        }
      ],
      "source": [
        "import torch\n",
        "import torch.nn as nn\n",
        "from torch.optim import SGD, Adam\n",
        "\n",
        "import numpy as np\n",
        "import matplotlib.pyplot as plt\n",
        "\n",
        "from avalanche.benchmarks.classic import SplitMNIST\n",
        "from avalanche.models import SimpleMLP\n",
        "from avalanche.training.storage_policy import ReservoirSamplingBuffer\n",
        "\n",
        "\n",
        "from joint_training import JointTraining\n",
        "from fine_tuning import FineTuning\n",
        "from comulative import Comulative\n",
        "from replay import Replay\n",
        "from latent_replay import LatentReplay\n",
        "from phinet_v2 import PhiNet_v2\n",
        "\n",
        "from micromind import PhiNet\n",
        "\n",
        "device = torch.device(\"cuda\" if torch.cuda.is_available() else \"cpu\")\n",
        "print(f\"Device: {device}\")\n",
        "\n",
        "torch.manual_seed(0)"
      ]
    },
    {
      "cell_type": "markdown",
      "metadata": {
        "id": "5KDShngxzcWy"
      },
      "source": [
        "## Benchmark"
      ]
    },
    {
      "cell_type": "code",
      "execution_count": 2,
      "metadata": {
        "id": "6i52l8jKzcWy"
      },
      "outputs": [],
      "source": [
        "split_mnist = SplitMNIST(n_experiences=5, seed=0, return_task_id = True)\n",
        "\n",
        "# recovering the train and test streams\n",
        "train_stream = split_mnist.train_stream\n",
        "test_stream = split_mnist.test_stream"
      ]
    },
    {
      "cell_type": "markdown",
      "metadata": {
        "id": "GApUVD8lzcWz"
      },
      "source": [
        "## Training"
      ]
    },
    {
      "cell_type": "markdown",
      "metadata": {
        "id": "6qwiSC9dzcW0"
      },
      "source": [
        "### Training Parameters"
      ]
    },
    {
      "cell_type": "code",
      "execution_count": 3,
      "metadata": {
        "id": "AvfBVXfazcW1"
      },
      "outputs": [],
      "source": [
        "criterion = nn.CrossEntropyLoss()\n",
        "\n",
        "# Define other necessary parameters\n",
        "train_mb_size = 128\n",
        "eval_mb_size = 128"
      ]
    },
    {
      "cell_type": "markdown",
      "metadata": {
        "id": "NWJxGNh9zcW2"
      },
      "source": [
        "### Fine Tuning Strategy"
      ]
    },
    {
      "cell_type": "code",
      "execution_count": null,
      "metadata": {
        "id": "vJFWY3eVzcW2"
      },
      "outputs": [],
      "source": [
        "#model1 = SimpleMLP(num_classes=10).to(device)\n",
        "model1 = PhiNet(input_shape = (1, 28, 28), alpha = 0.5, beta = 1, t_zero = 6,num_layers=4 ,include_top = True, num_classes = 10).to(device)\n",
        "\n",
        "#optimizer1 = SGD(model1.parameters(), lr=0.01, momentum=0.9)\n",
        "optimizer1 = Adam(model1.parameters(), lr=0.01, weight_decay=0)\n",
        "\n",
        "train_epochs = 4\n",
        "\n",
        "fine_tuning = FineTuning(\n",
        "    model=model1,\n",
        "    optimizer=optimizer1,\n",
        "    criterion=criterion,\n",
        "    train_mb_size=train_mb_size,\n",
        "    train_epochs=train_epochs,\n",
        "    eval_mb_size=eval_mb_size,\n",
        "    device=device\n",
        ")\n",
        "\n",
        "fine_tuning.train(train_stream)\n",
        "fine_tuning.test(test_stream)"
      ]
    },
    {
      "cell_type": "markdown",
      "metadata": {
        "id": "S-tRVDugzcW3"
      },
      "source": [
        "### Joint Training Strategy"
      ]
    },
    {
      "cell_type": "code",
      "execution_count": null,
      "metadata": {
        "id": "wsNBEspqzcW4"
      },
      "outputs": [],
      "source": [
        "#model2 = SimpleMLP(num_classes=10).to(device)\n",
        "model2 = PhiNet(input_shape = (1, 28, 28), alpha = 0.5, beta = 1, t_zero = 6,num_layers=4 ,include_top = True, num_classes = 10).to(device)\n",
        "\n",
        "#optimizer2 = SGD(model2.parameters(), lr=0.01, momentum=0.9)\n",
        "optimizer2 = Adam(model2.parameters(), lr=0.01, weight_decay=0)\n",
        "\n",
        "train_epochs = 4\n",
        "\n",
        "joint_training = JointTraining(\n",
        "    model=model2,\n",
        "    optimizer=optimizer2,\n",
        "    criterion=criterion,\n",
        "    train_mb_size=train_mb_size,\n",
        "    train_epochs=train_epochs,\n",
        "    eval_mb_size=eval_mb_size,\n",
        "    device=device\n",
        ")\n",
        "\n",
        "joint_training.train(train_stream)\n",
        "joint_training.test(test_stream)"
      ]
    },
    {
      "cell_type": "markdown",
      "metadata": {
        "id": "ggTVXamGzcW4"
      },
      "source": [
        "### Comulative Strategy"
      ]
    },
    {
      "cell_type": "code",
      "execution_count": null,
      "metadata": {
        "id": "I2HgeprNzcW5"
      },
      "outputs": [],
      "source": [
        "#model3 = SimpleMLP(num_classes=10).to(device)\n",
        "model3 = PhiNet(input_shape = (1, 28, 28), alpha = 0.5, beta = 1, t_zero = 6,num_layers=4 ,include_top = True, num_classes = 10).to(device)\n",
        "\n",
        "#optimizer3 = SGD(model3.parameters(), lr=0.01, momentum=0.9)\n",
        "optimizer3 = Adam(model3.parameters(), lr=0.01, weight_decay=0)\n",
        "\n",
        "train_epochs = 4\n",
        "\n",
        "comulative = Comulative(\n",
        "    model=model3,\n",
        "    optimizer=optimizer3,\n",
        "    criterion=criterion,\n",
        "    train_mb_size=train_mb_size,\n",
        "    train_epochs=train_epochs,\n",
        "    eval_mb_size=eval_mb_size,\n",
        "    device=device\n",
        ")\n",
        "\n",
        "comulative.train(train_stream)\n",
        "comulative.test(test_stream)"
      ]
    },
    {
      "cell_type": "markdown",
      "metadata": {
        "id": "3tS1PK2uzcW6"
      },
      "source": [
        "### Replay Strategy"
      ]
    },
    {
      "cell_type": "code",
      "execution_count": null,
      "metadata": {
        "id": "eE0_3a8DzcW6"
      },
      "outputs": [],
      "source": [
        "#model4 = SimpleMLP(num_classes=10).to(device)\n",
        "model4 = PhiNet(input_shape = (1, 28, 28), alpha = 0.5, beta = 1, t_zero = 6,num_layers=4 ,include_top = True, num_classes = 10).to(device)\n",
        "\n",
        "#optimizer4 = SGD(model4.parameters(), lr=0.01, momentum=0.9)\n",
        "optimizer4 = Adam(model4.parameters(), lr=0.01, weight_decay=0)\n",
        "\n",
        "storage_p = ReservoirSamplingBuffer(max_size=1500)\n",
        "\n",
        "train_epochs = 4\n",
        "\n",
        "replay = Replay(\n",
        "    model=model4,\n",
        "    optimizer=optimizer4,\n",
        "    criterion=criterion,\n",
        "    train_mb_size=train_mb_size,\n",
        "    train_epochs=train_epochs,\n",
        "    eval_mb_size=eval_mb_size,\n",
        "    storage_policy = storage_p,\n",
        "    device=device\n",
        ")\n",
        "\n",
        "replay.train(train_stream)\n",
        "replay.test(test_stream)"
      ]
    },
    {
      "cell_type": "markdown",
      "metadata": {
        "id": "rZ7gVY7H9moR"
      },
      "source": [
        "### Latent Replay Strategy"
      ]
    },
    {
      "cell_type": "code",
      "execution_count": 7,
      "metadata": {
        "colab": {
          "base_uri": "https://localhost:8080/"
        },
        "id": "qextF3Z99moR",
        "outputId": "1f322d89-c760-4706-f96d-41f1a05e18b7"
      },
      "outputs": [
        {
          "name": "stdout",
          "output_type": "stream",
          "text": [
            "PhiNet before: \n",
            "PhiNet(\n",
            "  (_layers): ModuleList(\n",
            "    (0): ZeroPad2d((0, 1, 0, 1))\n",
            "    (1): SeparableConv2d(\n",
            "      (_layers): ModuleList(\n",
            "        (0): Conv2d(1, 1, kernel_size=(3, 3), stride=(2, 2), bias=False)\n",
            "        (1): Conv2d(1, 24, kernel_size=(1, 1), stride=(1, 1), bias=False)\n",
            "        (2): BatchNorm2d(24, eps=0.001, momentum=0.999, affine=True, track_running_stats=True)\n",
            "        (3): HSwish()\n",
            "      )\n",
            "    )\n",
            "    (2): PhiNetConvBlock(\n",
            "      (_layers): ModuleList(\n",
            "        (0): Dropout2d(p=0.05, inplace=False)\n",
            "        (1): DepthwiseConv2d(24, 24, kernel_size=(3, 3), stride=(1, 1), padding=(1, 1), groups=24, bias=False)\n",
            "        (2): BatchNorm2d(24, eps=0.001, momentum=0.999, affine=True, track_running_stats=True)\n",
            "        (3): HSwish()\n",
            "        (4): Conv2d(24, 12, kernel_size=(1, 1), stride=(1, 1), bias=False)\n",
            "        (5): BatchNorm2d(12, eps=0.001, momentum=0.999, affine=True, track_running_stats=True)\n",
            "      )\n",
            "    )\n",
            "    (3): PhiNetConvBlock(\n",
            "      (_layers): ModuleList(\n",
            "        (0): Conv2d(12, 72, kernel_size=(1, 1), stride=(1, 1), bias=False)\n",
            "        (1): BatchNorm2d(72, eps=0.001, momentum=0.999, affine=True, track_running_stats=True)\n",
            "        (2): HSwish()\n",
            "        (3): ZeroPad2d((1, 1, 1, 1))\n",
            "        (4): Dropout2d(p=0.05, inplace=False)\n",
            "        (5): DepthwiseConv2d(72, 72, kernel_size=(3, 3), stride=(2, 2), groups=72, bias=False)\n",
            "        (6): BatchNorm2d(72, eps=0.001, momentum=0.999, affine=True, track_running_stats=True)\n",
            "        (7): HSwish()\n",
            "        (8): SEBlock(\n",
            "          (se_conv): Conv2d(72, 12, kernel_size=(1, 1), stride=(1, 1), bias=False)\n",
            "          (se_conv2): Conv2d(12, 72, kernel_size=(1, 1), stride=(1, 1), bias=False)\n",
            "          (activation): HSwish()\n",
            "        )\n",
            "        (9): Conv2d(72, 12, kernel_size=(1, 1), stride=(1, 1), bias=False)\n",
            "        (10): BatchNorm2d(12, eps=0.001, momentum=0.999, affine=True, track_running_stats=True)\n",
            "      )\n",
            "    )\n",
            "    (4): PhiNetConvBlock(\n",
            "      (_layers): ModuleList(\n",
            "        (0): Conv2d(12, 72, kernel_size=(1, 1), stride=(1, 1), bias=False)\n",
            "        (1): BatchNorm2d(72, eps=0.001, momentum=0.999, affine=True, track_running_stats=True)\n",
            "        (2): HSwish()\n",
            "        (3): Dropout2d(p=0.05, inplace=False)\n",
            "        (4): DepthwiseConv2d(72, 72, kernel_size=(3, 3), stride=(1, 1), padding=(1, 1), groups=72, bias=False)\n",
            "        (5): BatchNorm2d(72, eps=0.001, momentum=0.999, affine=True, track_running_stats=True)\n",
            "        (6): HSwish()\n",
            "        (7): SEBlock(\n",
            "          (se_conv): Conv2d(72, 12, kernel_size=(1, 1), stride=(1, 1), bias=False)\n",
            "          (se_conv2): Conv2d(12, 72, kernel_size=(1, 1), stride=(1, 1), bias=False)\n",
            "          (activation): HSwish()\n",
            "        )\n",
            "        (8): Conv2d(72, 12, kernel_size=(1, 1), stride=(1, 1), bias=False)\n",
            "        (9): BatchNorm2d(12, eps=0.001, momentum=0.999, affine=True, track_running_stats=True)\n",
            "      )\n",
            "    )\n",
            "    (5): PhiNetConvBlock(\n",
            "      (_layers): ModuleList(\n",
            "        (0): Conv2d(12, 72, kernel_size=(1, 1), stride=(1, 1), bias=False)\n",
            "        (1): BatchNorm2d(72, eps=0.001, momentum=0.999, affine=True, track_running_stats=True)\n",
            "        (2): HSwish()\n",
            "        (3): ZeroPad2d((1, 1, 1, 1))\n",
            "        (4): Dropout2d(p=0.05, inplace=False)\n",
            "        (5): DepthwiseConv2d(72, 72, kernel_size=(3, 3), stride=(2, 2), groups=72, bias=False)\n",
            "        (6): BatchNorm2d(72, eps=0.001, momentum=0.999, affine=True, track_running_stats=True)\n",
            "        (7): HSwish()\n",
            "        (8): SEBlock(\n",
            "          (se_conv): Conv2d(72, 12, kernel_size=(1, 1), stride=(1, 1), bias=False)\n",
            "          (se_conv2): Conv2d(12, 72, kernel_size=(1, 1), stride=(1, 1), bias=False)\n",
            "          (activation): HSwish()\n",
            "        )\n",
            "        (9): Conv2d(72, 24, kernel_size=(1, 1), stride=(1, 1), bias=False)\n",
            "        (10): BatchNorm2d(24, eps=0.001, momentum=0.999, affine=True, track_running_stats=True)\n",
            "      )\n",
            "    )\n",
            "    (6): PhiNetConvBlock(\n",
            "      (_layers): ModuleList(\n",
            "        (0): Conv2d(24, 144, kernel_size=(1, 1), stride=(1, 1), bias=False)\n",
            "        (1): BatchNorm2d(144, eps=0.001, momentum=0.999, affine=True, track_running_stats=True)\n",
            "        (2): HSwish()\n",
            "        (3): Dropout2d(p=0.05, inplace=False)\n",
            "        (4): DepthwiseConv2d(144, 144, kernel_size=(3, 3), stride=(1, 1), padding=(1, 1), groups=144, bias=False)\n",
            "        (5): BatchNorm2d(144, eps=0.001, momentum=0.999, affine=True, track_running_stats=True)\n",
            "        (6): HSwish()\n",
            "        (7): SEBlock(\n",
            "          (se_conv): Conv2d(144, 24, kernel_size=(1, 1), stride=(1, 1), bias=False)\n",
            "          (se_conv2): Conv2d(24, 144, kernel_size=(1, 1), stride=(1, 1), bias=False)\n",
            "          (activation): HSwish()\n",
            "        )\n",
            "        (8): Conv2d(144, 24, kernel_size=(1, 1), stride=(1, 1), bias=False)\n",
            "        (9): BatchNorm2d(24, eps=0.001, momentum=0.999, affine=True, track_running_stats=True)\n",
            "      )\n",
            "    )\n",
            "    (7): PhiNetConvBlock(\n",
            "      (_layers): ModuleList(\n",
            "        (0): Conv2d(24, 144, kernel_size=(1, 1), stride=(1, 1), bias=False)\n",
            "        (1): BatchNorm2d(144, eps=0.001, momentum=0.999, affine=True, track_running_stats=True)\n",
            "        (2): HSwish()\n",
            "        (3): ZeroPad2d((1, 1, 1, 1))\n",
            "        (4): Dropout2d(p=0.05, inplace=False)\n",
            "        (5): DepthwiseConv2d(144, 144, kernel_size=(3, 3), stride=(2, 2), groups=144, bias=False)\n",
            "        (6): BatchNorm2d(144, eps=0.001, momentum=0.999, affine=True, track_running_stats=True)\n",
            "        (7): HSwish()\n",
            "        (8): SEBlock(\n",
            "          (se_conv): Conv2d(144, 24, kernel_size=(1, 1), stride=(1, 1), bias=False)\n",
            "          (se_conv2): Conv2d(24, 144, kernel_size=(1, 1), stride=(1, 1), bias=False)\n",
            "          (activation): HSwish()\n",
            "        )\n",
            "        (9): Conv2d(144, 48, kernel_size=(1, 1), stride=(1, 1), bias=False)\n",
            "        (10): BatchNorm2d(48, eps=0.001, momentum=0.999, affine=True, track_running_stats=True)\n",
            "      )\n",
            "    )\n",
            "    (8): PhiNetConvBlock(\n",
            "      (_layers): ModuleList(\n",
            "        (0): Conv2d(48, 288, kernel_size=(1, 1), stride=(1, 1), bias=False)\n",
            "        (1): BatchNorm2d(288, eps=0.001, momentum=0.999, affine=True, track_running_stats=True)\n",
            "        (2): HSwish()\n",
            "        (3): Dropout2d(p=0.05, inplace=False)\n",
            "        (4): DepthwiseConv2d(288, 288, kernel_size=(3, 3), stride=(1, 1), padding=(1, 1), groups=288, bias=False)\n",
            "        (5): BatchNorm2d(288, eps=0.001, momentum=0.999, affine=True, track_running_stats=True)\n",
            "        (6): HSwish()\n",
            "        (7): SEBlock(\n",
            "          (se_conv): Conv2d(288, 48, kernel_size=(1, 1), stride=(1, 1), bias=False)\n",
            "          (se_conv2): Conv2d(48, 288, kernel_size=(1, 1), stride=(1, 1), bias=False)\n",
            "          (activation): HSwish()\n",
            "        )\n",
            "        (8): Conv2d(288, 48, kernel_size=(1, 1), stride=(1, 1), bias=False)\n",
            "        (9): BatchNorm2d(48, eps=0.001, momentum=0.999, affine=True, track_running_stats=True)\n",
            "      )\n",
            "    )\n",
            "    (9): PhiNetConvBlock(\n",
            "      (_layers): ModuleList(\n",
            "        (0): Conv2d(48, 288, kernel_size=(1, 1), stride=(1, 1), bias=False)\n",
            "        (1): BatchNorm2d(288, eps=0.001, momentum=0.999, affine=True, track_running_stats=True)\n",
            "        (2): HSwish()\n",
            "        (3): ZeroPad2d((1, 1, 1, 1))\n",
            "        (4): Dropout2d(p=0.05, inplace=False)\n",
            "        (5): DepthwiseConv2d(288, 288, kernel_size=(3, 3), stride=(2, 2), groups=288, bias=False)\n",
            "        (6): BatchNorm2d(288, eps=0.001, momentum=0.999, affine=True, track_running_stats=True)\n",
            "        (7): HSwish()\n",
            "        (8): SEBlock(\n",
            "          (se_conv): Conv2d(288, 48, kernel_size=(1, 1), stride=(1, 1), bias=False)\n",
            "          (se_conv2): Conv2d(48, 288, kernel_size=(1, 1), stride=(1, 1), bias=False)\n",
            "          (activation): HSwish()\n",
            "        )\n",
            "        (9): Conv2d(288, 96, kernel_size=(1, 1), stride=(1, 1), bias=False)\n",
            "        (10): BatchNorm2d(96, eps=0.001, momentum=0.999, affine=True, track_running_stats=True)\n",
            "      )\n",
            "    )\n",
            "  )\n",
            ")\n",
            "--------------------------------------------------------------------------------\n",
            "AFTER PhiNet: \n",
            "PhiNet_v2(\n",
            "  (lat_features): Sequential(\n",
            "    (0): ZeroPad2d((0, 1, 0, 1))\n",
            "    (1): SeparableConv2d(\n",
            "      (_layers): ModuleList(\n",
            "        (0): Conv2d(1, 1, kernel_size=(3, 3), stride=(2, 2), bias=False)\n",
            "        (1): Conv2d(1, 24, kernel_size=(1, 1), stride=(1, 1), bias=False)\n",
            "        (2): BatchNorm2d(24, eps=0.001, momentum=0.999, affine=True, track_running_stats=True)\n",
            "        (3): HSwish()\n",
            "      )\n",
            "    )\n",
            "    (2): PhiNetConvBlock(\n",
            "      (_layers): ModuleList(\n",
            "        (0): Dropout2d(p=0.05, inplace=False)\n",
            "        (1): DepthwiseConv2d(24, 24, kernel_size=(3, 3), stride=(1, 1), padding=(1, 1), groups=24, bias=False)\n",
            "        (2): BatchNorm2d(24, eps=0.001, momentum=0.999, affine=True, track_running_stats=True)\n",
            "        (3): HSwish()\n",
            "        (4): Conv2d(24, 12, kernel_size=(1, 1), stride=(1, 1), bias=False)\n",
            "        (5): BatchNorm2d(12, eps=0.001, momentum=0.999, affine=True, track_running_stats=True)\n",
            "      )\n",
            "    )\n",
            "    (3): PhiNetConvBlock(\n",
            "      (_layers): ModuleList(\n",
            "        (0): Conv2d(12, 72, kernel_size=(1, 1), stride=(1, 1), bias=False)\n",
            "        (1): BatchNorm2d(72, eps=0.001, momentum=0.999, affine=True, track_running_stats=True)\n",
            "        (2): HSwish()\n",
            "        (3): ZeroPad2d((1, 1, 1, 1))\n",
            "        (4): Dropout2d(p=0.05, inplace=False)\n",
            "        (5): DepthwiseConv2d(72, 72, kernel_size=(3, 3), stride=(2, 2), groups=72, bias=False)\n",
            "        (6): BatchNorm2d(72, eps=0.001, momentum=0.999, affine=True, track_running_stats=True)\n",
            "        (7): HSwish()\n",
            "        (8): SEBlock(\n",
            "          (se_conv): Conv2d(72, 12, kernel_size=(1, 1), stride=(1, 1), bias=False)\n",
            "          (se_conv2): Conv2d(12, 72, kernel_size=(1, 1), stride=(1, 1), bias=False)\n",
            "          (activation): HSwish()\n",
            "        )\n",
            "        (9): Conv2d(72, 12, kernel_size=(1, 1), stride=(1, 1), bias=False)\n",
            "        (10): BatchNorm2d(12, eps=0.001, momentum=0.999, affine=True, track_running_stats=True)\n",
            "      )\n",
            "    )\n",
            "    (4): PhiNetConvBlock(\n",
            "      (_layers): ModuleList(\n",
            "        (0): Conv2d(12, 72, kernel_size=(1, 1), stride=(1, 1), bias=False)\n",
            "        (1): BatchNorm2d(72, eps=0.001, momentum=0.999, affine=True, track_running_stats=True)\n",
            "        (2): HSwish()\n",
            "        (3): Dropout2d(p=0.05, inplace=False)\n",
            "        (4): DepthwiseConv2d(72, 72, kernel_size=(3, 3), stride=(1, 1), padding=(1, 1), groups=72, bias=False)\n",
            "        (5): BatchNorm2d(72, eps=0.001, momentum=0.999, affine=True, track_running_stats=True)\n",
            "        (6): HSwish()\n",
            "        (7): SEBlock(\n",
            "          (se_conv): Conv2d(72, 12, kernel_size=(1, 1), stride=(1, 1), bias=False)\n",
            "          (se_conv2): Conv2d(12, 72, kernel_size=(1, 1), stride=(1, 1), bias=False)\n",
            "          (activation): HSwish()\n",
            "        )\n",
            "        (8): Conv2d(72, 12, kernel_size=(1, 1), stride=(1, 1), bias=False)\n",
            "        (9): BatchNorm2d(12, eps=0.001, momentum=0.999, affine=True, track_running_stats=True)\n",
            "      )\n",
            "    )\n",
            "    (5): PhiNetConvBlock(\n",
            "      (_layers): ModuleList(\n",
            "        (0): Conv2d(12, 72, kernel_size=(1, 1), stride=(1, 1), bias=False)\n",
            "        (1): BatchNorm2d(72, eps=0.001, momentum=0.999, affine=True, track_running_stats=True)\n",
            "        (2): HSwish()\n",
            "        (3): ZeroPad2d((1, 1, 1, 1))\n",
            "        (4): Dropout2d(p=0.05, inplace=False)\n",
            "        (5): DepthwiseConv2d(72, 72, kernel_size=(3, 3), stride=(2, 2), groups=72, bias=False)\n",
            "        (6): BatchNorm2d(72, eps=0.001, momentum=0.999, affine=True, track_running_stats=True)\n",
            "        (7): HSwish()\n",
            "        (8): SEBlock(\n",
            "          (se_conv): Conv2d(72, 12, kernel_size=(1, 1), stride=(1, 1), bias=False)\n",
            "          (se_conv2): Conv2d(12, 72, kernel_size=(1, 1), stride=(1, 1), bias=False)\n",
            "          (activation): HSwish()\n",
            "        )\n",
            "        (9): Conv2d(72, 24, kernel_size=(1, 1), stride=(1, 1), bias=False)\n",
            "        (10): BatchNorm2d(24, eps=0.001, momentum=0.999, affine=True, track_running_stats=True)\n",
            "      )\n",
            "    )\n",
            "    (6): PhiNetConvBlock(\n",
            "      (_layers): ModuleList(\n",
            "        (0): Conv2d(24, 144, kernel_size=(1, 1), stride=(1, 1), bias=False)\n",
            "        (1): BatchNorm2d(144, eps=0.001, momentum=0.999, affine=True, track_running_stats=True)\n",
            "        (2): HSwish()\n",
            "        (3): Dropout2d(p=0.05, inplace=False)\n",
            "        (4): DepthwiseConv2d(144, 144, kernel_size=(3, 3), stride=(1, 1), padding=(1, 1), groups=144, bias=False)\n",
            "        (5): BatchNorm2d(144, eps=0.001, momentum=0.999, affine=True, track_running_stats=True)\n",
            "        (6): HSwish()\n",
            "        (7): SEBlock(\n",
            "          (se_conv): Conv2d(144, 24, kernel_size=(1, 1), stride=(1, 1), bias=False)\n",
            "          (se_conv2): Conv2d(24, 144, kernel_size=(1, 1), stride=(1, 1), bias=False)\n",
            "          (activation): HSwish()\n",
            "        )\n",
            "        (8): Conv2d(144, 24, kernel_size=(1, 1), stride=(1, 1), bias=False)\n",
            "        (9): BatchNorm2d(24, eps=0.001, momentum=0.999, affine=True, track_running_stats=True)\n",
            "      )\n",
            "    )\n",
            "    (7): PhiNetConvBlock(\n",
            "      (_layers): ModuleList(\n",
            "        (0): Conv2d(24, 144, kernel_size=(1, 1), stride=(1, 1), bias=False)\n",
            "        (1): BatchNorm2d(144, eps=0.001, momentum=0.999, affine=True, track_running_stats=True)\n",
            "        (2): HSwish()\n",
            "        (3): ZeroPad2d((1, 1, 1, 1))\n",
            "        (4): Dropout2d(p=0.05, inplace=False)\n",
            "        (5): DepthwiseConv2d(144, 144, kernel_size=(3, 3), stride=(2, 2), groups=144, bias=False)\n",
            "        (6): BatchNorm2d(144, eps=0.001, momentum=0.999, affine=True, track_running_stats=True)\n",
            "        (7): HSwish()\n",
            "        (8): SEBlock(\n",
            "          (se_conv): Conv2d(144, 24, kernel_size=(1, 1), stride=(1, 1), bias=False)\n",
            "          (se_conv2): Conv2d(24, 144, kernel_size=(1, 1), stride=(1, 1), bias=False)\n",
            "          (activation): HSwish()\n",
            "        )\n",
            "        (9): Conv2d(144, 48, kernel_size=(1, 1), stride=(1, 1), bias=False)\n",
            "        (10): BatchNorm2d(48, eps=0.001, momentum=0.999, affine=True, track_running_stats=True)\n",
            "      )\n",
            "    )\n",
            "    (8): PhiNetConvBlock(\n",
            "      (_layers): ModuleList(\n",
            "        (0): Conv2d(48, 288, kernel_size=(1, 1), stride=(1, 1), bias=False)\n",
            "        (1): BatchNorm2d(288, eps=0.001, momentum=0.999, affine=True, track_running_stats=True)\n",
            "        (2): HSwish()\n",
            "        (3): Dropout2d(p=0.05, inplace=False)\n",
            "        (4): DepthwiseConv2d(288, 288, kernel_size=(3, 3), stride=(1, 1), padding=(1, 1), groups=288, bias=False)\n",
            "        (5): BatchNorm2d(288, eps=0.001, momentum=0.999, affine=True, track_running_stats=True)\n",
            "        (6): HSwish()\n",
            "        (7): SEBlock(\n",
            "          (se_conv): Conv2d(288, 48, kernel_size=(1, 1), stride=(1, 1), bias=False)\n",
            "          (se_conv2): Conv2d(48, 288, kernel_size=(1, 1), stride=(1, 1), bias=False)\n",
            "          (activation): HSwish()\n",
            "        )\n",
            "        (8): Conv2d(288, 48, kernel_size=(1, 1), stride=(1, 1), bias=False)\n",
            "        (9): BatchNorm2d(48, eps=0.001, momentum=0.999, affine=True, track_running_stats=True)\n",
            "      )\n",
            "    )\n",
            "  )\n",
            "  (end_features): Sequential(\n",
            "    (0): PhiNetConvBlock(\n",
            "      (_layers): ModuleList(\n",
            "        (0): Conv2d(48, 288, kernel_size=(1, 1), stride=(1, 1), bias=False)\n",
            "        (1): BatchNorm2d(288, eps=0.001, momentum=0.999, affine=True, track_running_stats=True)\n",
            "        (2): HSwish()\n",
            "        (3): ZeroPad2d((1, 1, 1, 1))\n",
            "        (4): Dropout2d(p=0.05, inplace=False)\n",
            "        (5): DepthwiseConv2d(288, 288, kernel_size=(3, 3), stride=(2, 2), groups=288, bias=False)\n",
            "        (6): BatchNorm2d(288, eps=0.001, momentum=0.999, affine=True, track_running_stats=True)\n",
            "        (7): HSwish()\n",
            "        (8): SEBlock(\n",
            "          (se_conv): Conv2d(288, 48, kernel_size=(1, 1), stride=(1, 1), bias=False)\n",
            "          (se_conv2): Conv2d(48, 288, kernel_size=(1, 1), stride=(1, 1), bias=False)\n",
            "          (activation): HSwish()\n",
            "        )\n",
            "        (9): Conv2d(288, 96, kernel_size=(1, 1), stride=(1, 1), bias=False)\n",
            "        (10): BatchNorm2d(96, eps=0.001, momentum=0.999, affine=True, track_running_stats=True)\n",
            "      )\n",
            "    )\n",
            "  )\n",
            "  (output): Sequential(\n",
            "    (0): AdaptiveAvgPool2d(output_size=(1, 1))\n",
            "    (1): Flatten(start_dim=1, end_dim=-1)\n",
            "    (2): Linear(in_features=96, out_features=10, bias=True)\n",
            "  )\n",
            ")\n",
            "Start of the training process...\n",
            "Training of the experience with class:  [1, 4]\n",
            "Epoch: 1/4, Train Loss: 5.8770, Train Accuracy: 96.00%\n",
            "Epoch: 2/4, Train Loss: 0.8876, Train Accuracy: 98.93%\n",
            "Epoch: 3/4, Train Loss: 0.7904, Train Accuracy: 99.27%\n",
            "Epoch: 4/4, Train Loss: 0.6202, Train Accuracy: 99.27%\n",
            "Size of the replay memory:  376\n",
            "\n",
            "Test after the training of the experience with class:  [1, 4]\n",
            "-----------------------------------------------------------------------------------\n",
            "Training of the experience with class:  [5, 7]\n",
            "Epoch: 1/4, Train Loss: 3.8099, Train Accuracy: 96.83%\n",
            "Epoch: 2/4, Train Loss: 0.5687, Train Accuracy: 99.44%\n",
            "Epoch: 3/4, Train Loss: 0.4213, Train Accuracy: 99.54%\n",
            "Epoch: 4/4, Train Loss: 0.2819, Train Accuracy: 99.75%\n",
            "Size of the replay memory:  520\n",
            "\n",
            "Test after the training of the experience with class:  [5, 7]\n",
            "-----------------------------------------------------------------------------------\n",
            "Training of the experience with class:  [9, 3]\n",
            "Epoch: 1/4, Train Loss: 5.4558, Train Accuracy: 94.35%\n",
            "Epoch: 2/4, Train Loss: 1.7344, Train Accuracy: 98.03%\n",
            "Epoch: 3/4, Train Loss: 1.3595, Train Accuracy: 98.37%\n",
            "Epoch: 4/4, Train Loss: 1.0461, Train Accuracy: 98.67%\n",
            "Size of the replay memory:  664\n",
            "\n",
            "Test after the training of the experience with class:  [9, 3]\n",
            "-----------------------------------------------------------------------------------\n",
            "Training of the experience with class:  [0, 8]\n",
            "Epoch: 1/4, Train Loss: 5.8585, Train Accuracy: 93.65%\n",
            "Epoch: 2/4, Train Loss: 1.7315, Train Accuracy: 97.71%\n",
            "Epoch: 3/4, Train Loss: 1.1998, Train Accuracy: 98.56%\n",
            "Epoch: 4/4, Train Loss: 0.8589, Train Accuracy: 98.95%\n",
            "Size of the replay memory:  808\n",
            "\n",
            "Test after the training of the experience with class:  [0, 8]\n",
            "-----------------------------------------------------------------------------------\n",
            "Training of the experience with class:  [2, 6]\n",
            "Epoch: 1/4, Train Loss: 5.0868, Train Accuracy: 95.28%\n",
            "Epoch: 2/4, Train Loss: 1.0035, Train Accuracy: 98.96%\n",
            "Epoch: 3/4, Train Loss: 0.5783, Train Accuracy: 99.42%\n",
            "Epoch: 4/4, Train Loss: 0.3373, Train Accuracy: 99.63%\n",
            "Size of the replay memory:  952\n",
            "\n",
            "Test after the training of the experience with class:  [2, 6]\n",
            "-----------------------------------------------------------------------------------\n",
            "Starting the testing...\n",
            "Testing task  0\n",
            "Classes in this task: [1, 4]\n",
            "Test Loss: 0.2055, Test Accuracy: 96.13%\n",
            "Testing task  1\n",
            "Classes in this task: [5, 7]\n",
            "Test Loss: 0.5217, Test Accuracy: 90.68%\n",
            "Testing task  2\n",
            "Classes in this task: [9, 3]\n",
            "Test Loss: 0.6523, Test Accuracy: 88.66%\n",
            "Testing task  3\n",
            "Classes in this task: [0, 8]\n",
            "Test Loss: 0.5164, Test Accuracy: 88.38%\n",
            "Testing task  4\n",
            "Classes in this task: [2, 6]\n",
            "Test Loss: 0.1196, Test Accuracy: 97.09%\n",
            "Average accuracy: 92.19%\n",
            "Training time: 13.45 s\n",
            "Inference Time: 13.448809623718262 s\n"
          ]
        }
      ],
      "source": [
        "from avalanche.evaluation.metrics import ElapsedTime\n",
        "import time\n",
        "model4 = PhiNet_v2(pretrained=\"./TestModel/7_Layers/Adam.pth\", device = device, num_layers= 7, latent_layer_num=9).to(device)\n",
        "\n",
        "optimizer4 = Adam(model4.parameters(), lr=0.01, weight_decay=0)\n",
        "\n",
        "train_epochs = 4\n",
        "\n",
        "t = ElapsedTime()\n",
        "\n",
        "latent_replay = LatentReplay(\n",
        "    model=model4,\n",
        "    optimizer=optimizer4,\n",
        "    criterion=criterion,\n",
        "    train_mb_size=21,\n",
        "    replay_mb_size = 107,\n",
        "    train_epochs=train_epochs,\n",
        "    eval_mb_size=128,\n",
        "    rm_size = 1500,\n",
        "    device=device\n",
        ")\n",
        "\n",
        "latent_replay.train(train_stream)\n",
        "t.update()\n",
        "\n",
        "latent_replay.test(test_stream, Plotting=False)\n",
        "t.update()\n",
        "\n",
        "print(f\"Inference time: {t.result():.2f} s\")"
      ]
    }
  ],
  "metadata": {
    "accelerator": "GPU",
    "colab": {
      "gpuType": "T4",
      "provenance": []
    },
    "kernelspec": {
      "display_name": "Python 3",
      "name": "python3"
    },
    "language_info": {
      "codemirror_mode": {
        "name": "ipython",
        "version": 3
      },
      "file_extension": ".py",
      "mimetype": "text/x-python",
      "name": "python",
      "nbconvert_exporter": "python",
      "pygments_lexer": "ipython3",
      "version": "3.10.9"
    },
    "orig_nbformat": 4
  },
  "nbformat": 4,
  "nbformat_minor": 0
}
