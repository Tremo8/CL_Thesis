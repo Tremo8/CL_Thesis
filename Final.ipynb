{
  "cells": [
    {
      "cell_type": "markdown",
      "metadata": {
        "id": "dwj4CkTzzcWr"
      },
      "source": [
        "# CL Test"
      ]
    },
    {
      "cell_type": "markdown",
      "metadata": {
        "id": "XPXJaZZjzcWu"
      },
      "source": [
        "## Installation\n",
        "Install all the necessary library."
      ]
    },
    {
      "cell_type": "code",
      "execution_count": null,
      "metadata": {
        "colab": {
          "base_uri": "https://localhost:8080/",
          "height": 1000
        },
        "id": "WzF55R6dzcWv",
        "outputId": "ed1b37a1-f0be-4e6b-fb9a-a205fcb1ff3a"
      },
      "outputs": [],
      "source": [
        "! pip install avalanche-lib==0.3.1\n",
        "! pip install micromind"
      ]
    },
    {
      "cell_type": "code",
      "execution_count": 1,
      "metadata": {
        "id": "-E3yHNRPzcWw"
      },
      "outputs": [
        {
          "name": "stderr",
          "output_type": "stream",
          "text": [
            "c:\\Users\\matte\\anaconda3\\lib\\site-packages\\tqdm\\auto.py:21: TqdmWarning: IProgress not found. Please update jupyter and ipywidgets. See https://ipywidgets.readthedocs.io/en/stable/user_install.html\n",
            "  from .autonotebook import tqdm as notebook_tqdm\n"
          ]
        }
      ],
      "source": [
        "import torch\n",
        "import torch.nn as nn\n",
        "from torch.optim import SGD, Adam\n",
        "\n",
        "import numpy as np\n",
        "import matplotlib.pyplot as plt\n",
        "\n",
        "from avalanche.benchmarks.classic import SplitMNIST\n",
        "from avalanche.models import SimpleMLP\n",
        "from avalanche.training.storage_policy import ReservoirSamplingBuffer\n",
        "\n",
        "\n",
        "from joint_training import JointTraining\n",
        "from fine_tuning import FineTuning\n",
        "from comulative import Comulative\n",
        "from replay import Replay\n",
        "from latent_reply import LatentReplay\n",
        "from phinet_v2 import PhiNet_v2\n",
        "\n",
        "from micromind import PhiNet\n",
        "\n",
        "device = torch.device(\"cuda\" if torch.cuda.is_available() else \"cpu\")\n",
        "print(f\"Device: {device}\")\n",
        "\n",
        "torch.manual_seed(0)"
      ]
    },
    {
      "cell_type": "markdown",
      "metadata": {
        "id": "5KDShngxzcWy"
      },
      "source": [
        "## Benchmark"
      ]
    },
    {
      "cell_type": "code",
      "execution_count": 4,
      "metadata": {
        "colab": {
          "base_uri": "https://localhost:8080/"
        },
        "id": "6i52l8jKzcWy",
        "outputId": "3eeccf85-d327-4f7d-e7e2-ecff2523a104"
      },
      "outputs": [],
      "source": [
        "split_mnist = SplitMNIST(n_experiences=5, seed=0, return_task_id = True)\n",
        "\n",
        "# recovering the train and test streams\n",
        "train_stream = split_mnist.train_stream\n",
        "test_stream = split_mnist.test_stream"
      ]
    },
    {
      "cell_type": "markdown",
      "metadata": {
        "id": "GApUVD8lzcWz"
      },
      "source": [
        "## Training"
      ]
    },
    {
      "cell_type": "markdown",
      "metadata": {
        "id": "6qwiSC9dzcW0"
      },
      "source": [
        "### Training Parameters"
      ]
    },
    {
      "cell_type": "code",
      "execution_count": 5,
      "metadata": {
        "id": "AvfBVXfazcW1"
      },
      "outputs": [],
      "source": [
        "criterion = nn.CrossEntropyLoss()\n",
        "\n",
        "# Define other necessary parameters\n",
        "train_mb_size = 128\n",
        "eval_mb_size = 128"
      ]
    },
    {
      "cell_type": "markdown",
      "metadata": {
        "id": "NWJxGNh9zcW2"
      },
      "source": [
        "### Fine Tuning Strategy"
      ]
    },
    {
      "cell_type": "markdown",
      "metadata": {
        "id": "Z2CDsS-3zcW2"
      },
      "source": [
        "#### Weight_decay = 0"
      ]
    },
    {
      "cell_type": "code",
      "execution_count": null,
      "metadata": {
        "colab": {
          "base_uri": "https://localhost:8080/"
        },
        "id": "vJFWY3eVzcW2",
        "outputId": "aefbc0ec-9c9c-4ef4-d98c-be7454e8027d"
      },
      "outputs": [],
      "source": [
        "#model1 = SimpleMLP(num_classes=10).to(device)\n",
        "model1 = PhiNet(input_shape = (1, 28, 28), alpha = 0.5, beta = 1, t_zero = 6,num_layers=4 ,include_top = True, num_classes = 10).to(device)\n",
        "\n",
        "#optimizer1 = SGD(model1.parameters(), lr=0.01, momentum=0.9)\n",
        "optimizer1 = Adam(model1.parameters(), lr=0.01, weight_decay=0)\n",
        "\n",
        "train_epochs = 4\n",
        "\n",
        "fine_tuning = FineTuning(\n",
        "    model=model1,\n",
        "    optimizer=optimizer1,\n",
        "    criterion=criterion,\n",
        "    train_mb_size=train_mb_size,\n",
        "    train_epochs=train_epochs,\n",
        "    eval_mb_size=eval_mb_size,\n",
        "    device=device\n",
        ")\n",
        "\n",
        "fine_tuning.train(train_stream)\n",
        "fine_tuning.test(test_stream)"
      ]
    },
    {
      "cell_type": "markdown",
      "metadata": {
        "id": "tZqniv9KzcW3"
      },
      "source": [
        "#### Weight_decay = 0.01"
      ]
    },
    {
      "cell_type": "code",
      "execution_count": null,
      "metadata": {
        "colab": {
          "base_uri": "https://localhost:8080/"
        },
        "id": "obaIj8FmzcW3",
        "outputId": "1088a8b5-3a6d-4548-d470-cb5d2844a2b1"
      },
      "outputs": [],
      "source": [
        "#model1 = SimpleMLP(num_classes=10).to(device)\n",
        "model1 = PhiNet(input_shape = (1, 28, 28), alpha = 0.5, beta = 1, t_zero = 6,num_layers=4 ,include_top = True, num_classes = 10).to(device)\n",
        "\n",
        "#optimizer1 = SGD(model1.parameters(), lr=0.01, momentum=0.9)\n",
        "optimizer1 = Adam(model1.parameters(), lr=0.01, weight_decay=0.01)\n",
        "\n",
        "train_epochs = 4\n",
        "\n",
        "fine_tuning = FineTuning(\n",
        "    model=model1,\n",
        "    optimizer=optimizer1,\n",
        "    criterion=criterion,\n",
        "    train_mb_size=train_mb_size,\n",
        "    train_epochs=train_epochs,\n",
        "    eval_mb_size=eval_mb_size,\n",
        "    device=device\n",
        ")\n",
        "\n",
        "fine_tuning.train(train_stream)\n",
        "fine_tuning.test(test_stream)"
      ]
    },
    {
      "cell_type": "markdown",
      "metadata": {
        "id": "S-tRVDugzcW3"
      },
      "source": [
        "### Joint Training Strategy"
      ]
    },
    {
      "cell_type": "markdown",
      "metadata": {
        "id": "PVh_gD8UzcW3"
      },
      "source": [
        "#### Weight_decay = 0"
      ]
    },
    {
      "cell_type": "code",
      "execution_count": null,
      "metadata": {
        "colab": {
          "base_uri": "https://localhost:8080/"
        },
        "id": "wsNBEspqzcW4",
        "outputId": "09b05158-1326-4143-fd26-ab0cd41a54bb"
      },
      "outputs": [],
      "source": [
        "#model2 = SimpleMLP(num_classes=10).to(device)\n",
        "model2 = PhiNet(input_shape = (1, 28, 28), alpha = 0.5, beta = 1, t_zero = 6,num_layers=4 ,include_top = True, num_classes = 10).to(device)\n",
        "\n",
        "#optimizer2 = SGD(model2.parameters(), lr=0.01, momentum=0.9)\n",
        "optimizer2 = Adam(model2.parameters(), lr=0.01, weight_decay=0)\n",
        "\n",
        "train_epochs = 4\n",
        "\n",
        "joint_training = JointTraining(\n",
        "    model=model2,\n",
        "    optimizer=optimizer2,\n",
        "    criterion=criterion,\n",
        "    train_mb_size=train_mb_size,\n",
        "    train_epochs=train_epochs,\n",
        "    eval_mb_size=eval_mb_size,\n",
        "    device=device\n",
        ")\n",
        "\n",
        "joint_training.train(train_stream)\n",
        "joint_training.test(test_stream)"
      ]
    },
    {
      "attachments": {},
      "cell_type": "markdown",
      "metadata": {
        "id": "TyLW99zOzcW4"
      },
      "source": [
        "#### Weight_decay = 0.01"
      ]
    },
    {
      "cell_type": "code",
      "execution_count": null,
      "metadata": {
        "colab": {
          "base_uri": "https://localhost:8080/"
        },
        "id": "jabYcXT_zcW4",
        "outputId": "06ff893b-893e-4772-d85b-d120fc4c8a74"
      },
      "outputs": [],
      "source": [
        "#model2 = SimpleMLP(num_classes=10).to(device)\n",
        "model2 = PhiNet(input_shape = (1, 28, 28), alpha = 0.5, beta = 1, t_zero = 6,num_layers=4 ,include_top = True, num_classes = 10).to(device)\n",
        "\n",
        "#optimizer2 = SGD(model2.parameters(), lr=0.01, momentum=0.9)\n",
        "optimizer2 = Adam(model2.parameters(), lr=0.01, weight_decay=0.01)\n",
        "\n",
        "train_epochs = 4\n",
        "\n",
        "joint_training = JointTraining(\n",
        "    model=model2,\n",
        "    optimizer=optimizer2,\n",
        "    criterion=criterion,\n",
        "    train_mb_size=train_mb_size,\n",
        "    train_epochs=train_epochs,\n",
        "    eval_mb_size=eval_mb_size,\n",
        "    device=device\n",
        ")\n",
        "\n",
        "joint_training.train(train_stream)\n",
        "joint_training.test(test_stream)"
      ]
    },
    {
      "cell_type": "markdown",
      "metadata": {
        "id": "ggTVXamGzcW4"
      },
      "source": [
        "### Comulative Strategy"
      ]
    },
    {
      "cell_type": "markdown",
      "metadata": {
        "id": "XkonLBcvzcW5"
      },
      "source": [
        "#### Weight_decay = 0"
      ]
    },
    {
      "cell_type": "code",
      "execution_count": null,
      "metadata": {
        "colab": {
          "base_uri": "https://localhost:8080/"
        },
        "id": "I2HgeprNzcW5",
        "outputId": "9edf3727-2a0b-45fc-f6e3-92bad86df6d5"
      },
      "outputs": [],
      "source": [
        "#model3 = SimpleMLP(num_classes=10).to(device)\n",
        "model3 = PhiNet(input_shape = (1, 28, 28), alpha = 0.5, beta = 1, t_zero = 6,num_layers=4 ,include_top = True, num_classes = 10).to(device)\n",
        "\n",
        "#optimizer3 = SGD(model3.parameters(), lr=0.01, momentum=0.9)\n",
        "optimizer3 = Adam(model3.parameters(), lr=0.01, weight_decay=0)\n",
        "\n",
        "train_epochs = 4\n",
        "\n",
        "comulative = Comulative(\n",
        "    model=model3,\n",
        "    optimizer=optimizer3,\n",
        "    criterion=criterion,\n",
        "    train_mb_size=train_mb_size,\n",
        "    train_epochs=train_epochs,\n",
        "    eval_mb_size=eval_mb_size,\n",
        "    device=device\n",
        ")\n",
        "\n",
        "comulative.train(train_stream)\n",
        "comulative.test(test_stream)"
      ]
    },
    {
      "cell_type": "markdown",
      "metadata": {
        "id": "W96rSuGTzcW5"
      },
      "source": [
        "#### Weight_decay = 0.01"
      ]
    },
    {
      "cell_type": "code",
      "execution_count": null,
      "metadata": {
        "colab": {
          "base_uri": "https://localhost:8080/"
        },
        "id": "2DlqHSKzzcW5",
        "outputId": "2355c444-4cb4-4473-e842-e678d2a0d57c"
      },
      "outputs": [],
      "source": [
        "#model3 = SimpleMLP(num_classes=10).to(device)\n",
        "model3 = PhiNet(input_shape = (1, 28, 28), alpha = 0.5, beta = 1, t_zero = 6,num_layers=4 ,include_top = True, num_classes = 10).to(device)\n",
        "\n",
        "#optimizer3 = SGD(model3.parameters(), lr=0.01, momentum=0.9)\n",
        "optimizer3 = Adam(model3.parameters(), lr=0.01, weight_decay=0.01)\n",
        "\n",
        "train_epochs = 4\n",
        "\n",
        "comulative = Comulative(\n",
        "    model=model3,\n",
        "    optimizer=optimizer3,\n",
        "    criterion=criterion,\n",
        "    train_mb_size=train_mb_size,\n",
        "    train_epochs=train_epochs,\n",
        "    eval_mb_size=eval_mb_size,\n",
        "    device=device\n",
        ")\n",
        "\n",
        "comulative.train(train_stream)\n",
        "comulative.test(test_stream)"
      ]
    },
    {
      "cell_type": "markdown",
      "metadata": {
        "id": "3tS1PK2uzcW6"
      },
      "source": [
        "### Replay Strategy"
      ]
    },
    {
      "cell_type": "markdown",
      "metadata": {
        "id": "jflEY8tXzcW6"
      },
      "source": [
        "#### Weight_decay = 0"
      ]
    },
    {
      "cell_type": "code",
      "execution_count": null,
      "metadata": {
        "colab": {
          "base_uri": "https://localhost:8080/"
        },
        "id": "eE0_3a8DzcW6",
        "outputId": "d3fb63f6-0afa-4862-f77f-7af05884f92f"
      },
      "outputs": [],
      "source": [
        "#model4 = SimpleMLP(num_classes=10).to(device)\n",
        "model4 = PhiNet(input_shape = (1, 28, 28), alpha = 0.5, beta = 1, t_zero = 6,num_layers=4 ,include_top = True, num_classes = 10).to(device)\n",
        "\n",
        "#optimizer4 = SGD(model4.parameters(), lr=0.01, momentum=0.9)\n",
        "optimizer4 = Adam(model4.parameters(), lr=0.01, weight_decay=0)\n",
        "\n",
        "storage_p = ReservoirSamplingBuffer(max_size=1500)\n",
        "\n",
        "train_epochs = 4\n",
        "\n",
        "replay = Replay(\n",
        "    model=model4,\n",
        "    optimizer=optimizer4,\n",
        "    criterion=criterion,\n",
        "    train_mb_size=train_mb_size,\n",
        "    train_epochs=train_epochs,\n",
        "    eval_mb_size=eval_mb_size,\n",
        "    storage_policy = storage_p,\n",
        "    device=device\n",
        ")\n",
        "\n",
        "replay.train(train_stream)\n",
        "replay.test(test_stream)"
      ]
    },
    {
      "cell_type": "markdown",
      "metadata": {
        "id": "S_DBzGi6zcW6"
      },
      "source": [
        "#### Weight_decay = 0.01"
      ]
    },
    {
      "cell_type": "code",
      "execution_count": null,
      "metadata": {
        "colab": {
          "base_uri": "https://localhost:8080/"
        },
        "id": "DPxIDm8KzcW6",
        "outputId": "e784dc5b-ef54-4983-cd9e-e683d2855a5e"
      },
      "outputs": [],
      "source": [
        "#model4 = SimpleMLP(num_classes=10).to(device)\n",
        "model4 = PhiNet(input_shape = (1, 28, 28), alpha = 0.5, beta = 1, t_zero = 6,num_layers=4 ,include_top = True, num_classes = 10).to(device)\n",
        "\n",
        "#optimizer4 = SGD(model4.parameters(), lr=0.01, momentum=0.9)\n",
        "optimizer4 = Adam(model4.parameters(), lr=0.01, weight_decay=0.01)\n",
        "\n",
        "storage_p = ReservoirSamplingBuffer(max_size=1500)\n",
        "\n",
        "train_epochs = 4\n",
        "\n",
        "replay = Replay(\n",
        "    model=model4,\n",
        "    optimizer=optimizer4,\n",
        "    criterion=criterion,\n",
        "    train_mb_size=train_mb_size,\n",
        "    train_epochs=train_epochs,\n",
        "    eval_mb_size=eval_mb_size,\n",
        "    storage_policy = storage_p,\n",
        "    device=device\n",
        ")\n",
        "\n",
        "replay.train(train_stream)\n",
        "replay.test(test_stream)"
      ]
    },
    {
      "attachments": {},
      "cell_type": "markdown",
      "metadata": {},
      "source": [
        "### Latent Replay Strategy"
      ]
    },
    {
      "cell_type": "code",
      "execution_count": 6,
      "metadata": {},
      "outputs": [
        {
          "name": "stdout",
          "output_type": "stream",
          "text": [
            "PhiNet before: \n",
            "PhiNet(\n",
            "  (_layers): ModuleList(\n",
            "    (0): ZeroPad2d((0, 1, 0, 1))\n",
            "    (1): SeparableConv2d(\n",
            "      (_layers): ModuleList(\n",
            "        (0): Conv2d(1, 1, kernel_size=(3, 3), stride=(2, 2), bias=False)\n",
            "        (1): Conv2d(1, 24, kernel_size=(1, 1), stride=(1, 1), bias=False)\n",
            "        (2): BatchNorm2d(24, eps=0.001, momentum=0.999, affine=True, track_running_stats=True)\n",
            "        (3): HSwish()\n",
            "      )\n",
            "    )\n",
            "    (2): PhiNetConvBlock(\n",
            "      (_layers): ModuleList(\n",
            "        (0): Dropout2d(p=0.05, inplace=False)\n",
            "        (1): DepthwiseConv2d(24, 24, kernel_size=(3, 3), stride=(1, 1), padding=(1, 1), groups=24, bias=False)\n",
            "        (2): BatchNorm2d(24, eps=0.001, momentum=0.999, affine=True, track_running_stats=True)\n",
            "        (3): HSwish()\n",
            "        (4): Conv2d(24, 12, kernel_size=(1, 1), stride=(1, 1), bias=False)\n",
            "        (5): BatchNorm2d(12, eps=0.001, momentum=0.999, affine=True, track_running_stats=True)\n",
            "      )\n",
            "    )\n",
            "    (3): PhiNetConvBlock(\n",
            "      (_layers): ModuleList(\n",
            "        (0): Conv2d(12, 72, kernel_size=(1, 1), stride=(1, 1), bias=False)\n",
            "        (1): BatchNorm2d(72, eps=0.001, momentum=0.999, affine=True, track_running_stats=True)\n",
            "        (2): HSwish()\n",
            "        (3): ZeroPad2d((1, 1, 1, 1))\n",
            "        (4): Dropout2d(p=0.05, inplace=False)\n",
            "        (5): DepthwiseConv2d(72, 72, kernel_size=(3, 3), stride=(2, 2), groups=72, bias=False)\n",
            "        (6): BatchNorm2d(72, eps=0.001, momentum=0.999, affine=True, track_running_stats=True)\n",
            "        (7): HSwish()\n",
            "        (8): SEBlock(\n",
            "          (se_conv): Conv2d(72, 12, kernel_size=(1, 1), stride=(1, 1), bias=False)\n",
            "          (se_conv2): Conv2d(12, 72, kernel_size=(1, 1), stride=(1, 1), bias=False)\n",
            "          (activation): HSwish()\n",
            "        )\n",
            "        (9): Conv2d(72, 12, kernel_size=(1, 1), stride=(1, 1), bias=False)\n",
            "        (10): BatchNorm2d(12, eps=0.001, momentum=0.999, affine=True, track_running_stats=True)\n",
            "      )\n",
            "    )\n",
            "    (4): PhiNetConvBlock(\n",
            "      (_layers): ModuleList(\n",
            "        (0): Conv2d(12, 72, kernel_size=(1, 1), stride=(1, 1), bias=False)\n",
            "        (1): BatchNorm2d(72, eps=0.001, momentum=0.999, affine=True, track_running_stats=True)\n",
            "        (2): HSwish()\n",
            "        (3): Dropout2d(p=0.05, inplace=False)\n",
            "        (4): DepthwiseConv2d(72, 72, kernel_size=(3, 3), stride=(1, 1), padding=(1, 1), groups=72, bias=False)\n",
            "        (5): BatchNorm2d(72, eps=0.001, momentum=0.999, affine=True, track_running_stats=True)\n",
            "        (6): HSwish()\n",
            "        (7): SEBlock(\n",
            "          (se_conv): Conv2d(72, 12, kernel_size=(1, 1), stride=(1, 1), bias=False)\n",
            "          (se_conv2): Conv2d(12, 72, kernel_size=(1, 1), stride=(1, 1), bias=False)\n",
            "          (activation): HSwish()\n",
            "        )\n",
            "        (8): Conv2d(72, 12, kernel_size=(1, 1), stride=(1, 1), bias=False)\n",
            "        (9): BatchNorm2d(12, eps=0.001, momentum=0.999, affine=True, track_running_stats=True)\n",
            "      )\n",
            "    )\n",
            "    (5): PhiNetConvBlock(\n",
            "      (_layers): ModuleList(\n",
            "        (0): Conv2d(12, 72, kernel_size=(1, 1), stride=(1, 1), bias=False)\n",
            "        (1): BatchNorm2d(72, eps=0.001, momentum=0.999, affine=True, track_running_stats=True)\n",
            "        (2): HSwish()\n",
            "        (3): ZeroPad2d((1, 1, 1, 1))\n",
            "        (4): Dropout2d(p=0.05, inplace=False)\n",
            "        (5): DepthwiseConv2d(72, 72, kernel_size=(3, 3), stride=(2, 2), groups=72, bias=False)\n",
            "        (6): BatchNorm2d(72, eps=0.001, momentum=0.999, affine=True, track_running_stats=True)\n",
            "        (7): HSwish()\n",
            "        (8): SEBlock(\n",
            "          (se_conv): Conv2d(72, 12, kernel_size=(1, 1), stride=(1, 1), bias=False)\n",
            "          (se_conv2): Conv2d(12, 72, kernel_size=(1, 1), stride=(1, 1), bias=False)\n",
            "          (activation): HSwish()\n",
            "        )\n",
            "        (9): Conv2d(72, 24, kernel_size=(1, 1), stride=(1, 1), bias=False)\n",
            "        (10): BatchNorm2d(24, eps=0.001, momentum=0.999, affine=True, track_running_stats=True)\n",
            "      )\n",
            "    )\n",
            "    (6): PhiNetConvBlock(\n",
            "      (_layers): ModuleList(\n",
            "        (0): Conv2d(24, 144, kernel_size=(1, 1), stride=(1, 1), bias=False)\n",
            "        (1): BatchNorm2d(144, eps=0.001, momentum=0.999, affine=True, track_running_stats=True)\n",
            "        (2): HSwish()\n",
            "        (3): Dropout2d(p=0.05, inplace=False)\n",
            "        (4): DepthwiseConv2d(144, 144, kernel_size=(3, 3), stride=(1, 1), padding=(1, 1), groups=144, bias=False)\n",
            "        (5): BatchNorm2d(144, eps=0.001, momentum=0.999, affine=True, track_running_stats=True)\n",
            "        (6): HSwish()\n",
            "        (7): SEBlock(\n",
            "          (se_conv): Conv2d(144, 24, kernel_size=(1, 1), stride=(1, 1), bias=False)\n",
            "          (se_conv2): Conv2d(24, 144, kernel_size=(1, 1), stride=(1, 1), bias=False)\n",
            "          (activation): HSwish()\n",
            "        )\n",
            "        (8): Conv2d(144, 24, kernel_size=(1, 1), stride=(1, 1), bias=False)\n",
            "        (9): BatchNorm2d(24, eps=0.001, momentum=0.999, affine=True, track_running_stats=True)\n",
            "      )\n",
            "    )\n",
            "    (7): PhiNetConvBlock(\n",
            "      (_layers): ModuleList(\n",
            "        (0): Conv2d(24, 144, kernel_size=(1, 1), stride=(1, 1), bias=False)\n",
            "        (1): BatchNorm2d(144, eps=0.001, momentum=0.999, affine=True, track_running_stats=True)\n",
            "        (2): HSwish()\n",
            "        (3): ZeroPad2d((1, 1, 1, 1))\n",
            "        (4): Dropout2d(p=0.05, inplace=False)\n",
            "        (5): DepthwiseConv2d(144, 144, kernel_size=(3, 3), stride=(2, 2), groups=144, bias=False)\n",
            "        (6): BatchNorm2d(144, eps=0.001, momentum=0.999, affine=True, track_running_stats=True)\n",
            "        (7): HSwish()\n",
            "        (8): SEBlock(\n",
            "          (se_conv): Conv2d(144, 24, kernel_size=(1, 1), stride=(1, 1), bias=False)\n",
            "          (se_conv2): Conv2d(24, 144, kernel_size=(1, 1), stride=(1, 1), bias=False)\n",
            "          (activation): HSwish()\n",
            "        )\n",
            "        (9): Conv2d(144, 48, kernel_size=(1, 1), stride=(1, 1), bias=False)\n",
            "        (10): BatchNorm2d(48, eps=0.001, momentum=0.999, affine=True, track_running_stats=True)\n",
            "      )\n",
            "    )\n",
            "    (8): PhiNetConvBlock(\n",
            "      (_layers): ModuleList(\n",
            "        (0): Conv2d(48, 288, kernel_size=(1, 1), stride=(1, 1), bias=False)\n",
            "        (1): BatchNorm2d(288, eps=0.001, momentum=0.999, affine=True, track_running_stats=True)\n",
            "        (2): HSwish()\n",
            "        (3): Dropout2d(p=0.05, inplace=False)\n",
            "        (4): DepthwiseConv2d(288, 288, kernel_size=(3, 3), stride=(1, 1), padding=(1, 1), groups=288, bias=False)\n",
            "        (5): BatchNorm2d(288, eps=0.001, momentum=0.999, affine=True, track_running_stats=True)\n",
            "        (6): HSwish()\n",
            "        (7): SEBlock(\n",
            "          (se_conv): Conv2d(288, 48, kernel_size=(1, 1), stride=(1, 1), bias=False)\n",
            "          (se_conv2): Conv2d(48, 288, kernel_size=(1, 1), stride=(1, 1), bias=False)\n",
            "          (activation): HSwish()\n",
            "        )\n",
            "        (8): Conv2d(288, 48, kernel_size=(1, 1), stride=(1, 1), bias=False)\n",
            "        (9): BatchNorm2d(48, eps=0.001, momentum=0.999, affine=True, track_running_stats=True)\n",
            "      )\n",
            "    )\n",
            "    (9): PhiNetConvBlock(\n",
            "      (_layers): ModuleList(\n",
            "        (0): Conv2d(48, 288, kernel_size=(1, 1), stride=(1, 1), bias=False)\n",
            "        (1): BatchNorm2d(288, eps=0.001, momentum=0.999, affine=True, track_running_stats=True)\n",
            "        (2): HSwish()\n",
            "        (3): ZeroPad2d((1, 1, 1, 1))\n",
            "        (4): Dropout2d(p=0.05, inplace=False)\n",
            "        (5): DepthwiseConv2d(288, 288, kernel_size=(3, 3), stride=(2, 2), groups=288, bias=False)\n",
            "        (6): BatchNorm2d(288, eps=0.001, momentum=0.999, affine=True, track_running_stats=True)\n",
            "        (7): HSwish()\n",
            "        (8): SEBlock(\n",
            "          (se_conv): Conv2d(288, 48, kernel_size=(1, 1), stride=(1, 1), bias=False)\n",
            "          (se_conv2): Conv2d(48, 288, kernel_size=(1, 1), stride=(1, 1), bias=False)\n",
            "          (activation): HSwish()\n",
            "        )\n",
            "        (9): Conv2d(288, 96, kernel_size=(1, 1), stride=(1, 1), bias=False)\n",
            "        (10): BatchNorm2d(96, eps=0.001, momentum=0.999, affine=True, track_running_stats=True)\n",
            "      )\n",
            "    )\n",
            "  )\n",
            ")\n",
            "--------------------------------------------------------------------------------\n",
            "AFTER PhiNet: \n",
            "PhiNet_v2(\n",
            "  (lat_features): Sequential(\n",
            "    (0): ZeroPad2d((0, 1, 0, 1))\n",
            "    (1): SeparableConv2d(\n",
            "      (_layers): ModuleList(\n",
            "        (0): Conv2d(1, 1, kernel_size=(3, 3), stride=(2, 2), bias=False)\n",
            "        (1): Conv2d(1, 24, kernel_size=(1, 1), stride=(1, 1), bias=False)\n",
            "        (2): BatchNorm2d(24, eps=0.001, momentum=0.999, affine=True, track_running_stats=True)\n",
            "        (3): HSwish()\n",
            "      )\n",
            "    )\n",
            "    (2): PhiNetConvBlock(\n",
            "      (_layers): ModuleList(\n",
            "        (0): Dropout2d(p=0.05, inplace=False)\n",
            "        (1): DepthwiseConv2d(24, 24, kernel_size=(3, 3), stride=(1, 1), padding=(1, 1), groups=24, bias=False)\n",
            "        (2): BatchNorm2d(24, eps=0.001, momentum=0.999, affine=True, track_running_stats=True)\n",
            "        (3): HSwish()\n",
            "        (4): Conv2d(24, 12, kernel_size=(1, 1), stride=(1, 1), bias=False)\n",
            "        (5): BatchNorm2d(12, eps=0.001, momentum=0.999, affine=True, track_running_stats=True)\n",
            "      )\n",
            "    )\n",
            "    (3): PhiNetConvBlock(\n",
            "      (_layers): ModuleList(\n",
            "        (0): Conv2d(12, 72, kernel_size=(1, 1), stride=(1, 1), bias=False)\n",
            "        (1): BatchNorm2d(72, eps=0.001, momentum=0.999, affine=True, track_running_stats=True)\n",
            "        (2): HSwish()\n",
            "        (3): ZeroPad2d((1, 1, 1, 1))\n",
            "        (4): Dropout2d(p=0.05, inplace=False)\n",
            "        (5): DepthwiseConv2d(72, 72, kernel_size=(3, 3), stride=(2, 2), groups=72, bias=False)\n",
            "        (6): BatchNorm2d(72, eps=0.001, momentum=0.999, affine=True, track_running_stats=True)\n",
            "        (7): HSwish()\n",
            "        (8): SEBlock(\n",
            "          (se_conv): Conv2d(72, 12, kernel_size=(1, 1), stride=(1, 1), bias=False)\n",
            "          (se_conv2): Conv2d(12, 72, kernel_size=(1, 1), stride=(1, 1), bias=False)\n",
            "          (activation): HSwish()\n",
            "        )\n",
            "        (9): Conv2d(72, 12, kernel_size=(1, 1), stride=(1, 1), bias=False)\n",
            "        (10): BatchNorm2d(12, eps=0.001, momentum=0.999, affine=True, track_running_stats=True)\n",
            "      )\n",
            "    )\n",
            "    (4): PhiNetConvBlock(\n",
            "      (_layers): ModuleList(\n",
            "        (0): Conv2d(12, 72, kernel_size=(1, 1), stride=(1, 1), bias=False)\n",
            "        (1): BatchNorm2d(72, eps=0.001, momentum=0.999, affine=True, track_running_stats=True)\n",
            "        (2): HSwish()\n",
            "        (3): Dropout2d(p=0.05, inplace=False)\n",
            "        (4): DepthwiseConv2d(72, 72, kernel_size=(3, 3), stride=(1, 1), padding=(1, 1), groups=72, bias=False)\n",
            "        (5): BatchNorm2d(72, eps=0.001, momentum=0.999, affine=True, track_running_stats=True)\n",
            "        (6): HSwish()\n",
            "        (7): SEBlock(\n",
            "          (se_conv): Conv2d(72, 12, kernel_size=(1, 1), stride=(1, 1), bias=False)\n",
            "          (se_conv2): Conv2d(12, 72, kernel_size=(1, 1), stride=(1, 1), bias=False)\n",
            "          (activation): HSwish()\n",
            "        )\n",
            "        (8): Conv2d(72, 12, kernel_size=(1, 1), stride=(1, 1), bias=False)\n",
            "        (9): BatchNorm2d(12, eps=0.001, momentum=0.999, affine=True, track_running_stats=True)\n",
            "      )\n",
            "    )\n",
            "    (5): PhiNetConvBlock(\n",
            "      (_layers): ModuleList(\n",
            "        (0): Conv2d(12, 72, kernel_size=(1, 1), stride=(1, 1), bias=False)\n",
            "        (1): BatchNorm2d(72, eps=0.001, momentum=0.999, affine=True, track_running_stats=True)\n",
            "        (2): HSwish()\n",
            "        (3): ZeroPad2d((1, 1, 1, 1))\n",
            "        (4): Dropout2d(p=0.05, inplace=False)\n",
            "        (5): DepthwiseConv2d(72, 72, kernel_size=(3, 3), stride=(2, 2), groups=72, bias=False)\n",
            "        (6): BatchNorm2d(72, eps=0.001, momentum=0.999, affine=True, track_running_stats=True)\n",
            "        (7): HSwish()\n",
            "        (8): SEBlock(\n",
            "          (se_conv): Conv2d(72, 12, kernel_size=(1, 1), stride=(1, 1), bias=False)\n",
            "          (se_conv2): Conv2d(12, 72, kernel_size=(1, 1), stride=(1, 1), bias=False)\n",
            "          (activation): HSwish()\n",
            "        )\n",
            "        (9): Conv2d(72, 24, kernel_size=(1, 1), stride=(1, 1), bias=False)\n",
            "        (10): BatchNorm2d(24, eps=0.001, momentum=0.999, affine=True, track_running_stats=True)\n",
            "      )\n",
            "    )\n",
            "  )\n",
            "  (end_features): Sequential(\n",
            "    (0): PhiNetConvBlock(\n",
            "      (_layers): ModuleList(\n",
            "        (0): Conv2d(24, 144, kernel_size=(1, 1), stride=(1, 1), bias=False)\n",
            "        (1): BatchNorm2d(144, eps=0.001, momentum=0.999, affine=True, track_running_stats=True)\n",
            "        (2): HSwish()\n",
            "        (3): Dropout2d(p=0.05, inplace=False)\n",
            "        (4): DepthwiseConv2d(144, 144, kernel_size=(3, 3), stride=(1, 1), padding=(1, 1), groups=144, bias=False)\n",
            "        (5): BatchNorm2d(144, eps=0.001, momentum=0.999, affine=True, track_running_stats=True)\n",
            "        (6): HSwish()\n",
            "        (7): SEBlock(\n",
            "          (se_conv): Conv2d(144, 24, kernel_size=(1, 1), stride=(1, 1), bias=False)\n",
            "          (se_conv2): Conv2d(24, 144, kernel_size=(1, 1), stride=(1, 1), bias=False)\n",
            "          (activation): HSwish()\n",
            "        )\n",
            "        (8): Conv2d(144, 24, kernel_size=(1, 1), stride=(1, 1), bias=False)\n",
            "        (9): BatchNorm2d(24, eps=0.001, momentum=0.999, affine=True, track_running_stats=True)\n",
            "      )\n",
            "    )\n",
            "    (1): PhiNetConvBlock(\n",
            "      (_layers): ModuleList(\n",
            "        (0): Conv2d(24, 144, kernel_size=(1, 1), stride=(1, 1), bias=False)\n",
            "        (1): BatchNorm2d(144, eps=0.001, momentum=0.999, affine=True, track_running_stats=True)\n",
            "        (2): HSwish()\n",
            "        (3): ZeroPad2d((1, 1, 1, 1))\n",
            "        (4): Dropout2d(p=0.05, inplace=False)\n",
            "        (5): DepthwiseConv2d(144, 144, kernel_size=(3, 3), stride=(2, 2), groups=144, bias=False)\n",
            "        (6): BatchNorm2d(144, eps=0.001, momentum=0.999, affine=True, track_running_stats=True)\n",
            "        (7): HSwish()\n",
            "        (8): SEBlock(\n",
            "          (se_conv): Conv2d(144, 24, kernel_size=(1, 1), stride=(1, 1), bias=False)\n",
            "          (se_conv2): Conv2d(24, 144, kernel_size=(1, 1), stride=(1, 1), bias=False)\n",
            "          (activation): HSwish()\n",
            "        )\n",
            "        (9): Conv2d(144, 48, kernel_size=(1, 1), stride=(1, 1), bias=False)\n",
            "        (10): BatchNorm2d(48, eps=0.001, momentum=0.999, affine=True, track_running_stats=True)\n",
            "      )\n",
            "    )\n",
            "    (2): PhiNetConvBlock(\n",
            "      (_layers): ModuleList(\n",
            "        (0): Conv2d(48, 288, kernel_size=(1, 1), stride=(1, 1), bias=False)\n",
            "        (1): BatchNorm2d(288, eps=0.001, momentum=0.999, affine=True, track_running_stats=True)\n",
            "        (2): HSwish()\n",
            "        (3): Dropout2d(p=0.05, inplace=False)\n",
            "        (4): DepthwiseConv2d(288, 288, kernel_size=(3, 3), stride=(1, 1), padding=(1, 1), groups=288, bias=False)\n",
            "        (5): BatchNorm2d(288, eps=0.001, momentum=0.999, affine=True, track_running_stats=True)\n",
            "        (6): HSwish()\n",
            "        (7): SEBlock(\n",
            "          (se_conv): Conv2d(288, 48, kernel_size=(1, 1), stride=(1, 1), bias=False)\n",
            "          (se_conv2): Conv2d(48, 288, kernel_size=(1, 1), stride=(1, 1), bias=False)\n",
            "          (activation): HSwish()\n",
            "        )\n",
            "        (8): Conv2d(288, 48, kernel_size=(1, 1), stride=(1, 1), bias=False)\n",
            "        (9): BatchNorm2d(48, eps=0.001, momentum=0.999, affine=True, track_running_stats=True)\n",
            "      )\n",
            "    )\n",
            "    (3): PhiNetConvBlock(\n",
            "      (_layers): ModuleList(\n",
            "        (0): Conv2d(48, 288, kernel_size=(1, 1), stride=(1, 1), bias=False)\n",
            "        (1): BatchNorm2d(288, eps=0.001, momentum=0.999, affine=True, track_running_stats=True)\n",
            "        (2): HSwish()\n",
            "        (3): ZeroPad2d((1, 1, 1, 1))\n",
            "        (4): Dropout2d(p=0.05, inplace=False)\n",
            "        (5): DepthwiseConv2d(288, 288, kernel_size=(3, 3), stride=(2, 2), groups=288, bias=False)\n",
            "        (6): BatchNorm2d(288, eps=0.001, momentum=0.999, affine=True, track_running_stats=True)\n",
            "        (7): HSwish()\n",
            "        (8): SEBlock(\n",
            "          (se_conv): Conv2d(288, 48, kernel_size=(1, 1), stride=(1, 1), bias=False)\n",
            "          (se_conv2): Conv2d(48, 288, kernel_size=(1, 1), stride=(1, 1), bias=False)\n",
            "          (activation): HSwish()\n",
            "        )\n",
            "        (9): Conv2d(288, 96, kernel_size=(1, 1), stride=(1, 1), bias=False)\n",
            "        (10): BatchNorm2d(96, eps=0.001, momentum=0.999, affine=True, track_running_stats=True)\n",
            "      )\n",
            "    )\n",
            "  )\n",
            "  (output): Sequential(\n",
            "    (0): AdaptiveAvgPool2d(output_size=(1, 1))\n",
            "    (1): Flatten(start_dim=1, end_dim=-1)\n",
            "    (2): Linear(in_features=96, out_features=10, bias=True)\n",
            "  )\n",
            ")\n",
            "Start of the training process...\n",
            "Training of the experience with class:  [1, 4]\n",
            "Epoch: 1/5, Train Loss: 4.9169, Train Accuracy: 86.67%\n",
            "Epoch: 2/5, Train Loss: 0.0880, Train Accuracy: 99.67%\n",
            "Epoch: 3/5, Train Loss: 0.0120, Train Accuracy: 100.00%\n",
            "Epoch: 4/5, Train Loss: 0.0077, Train Accuracy: 100.00%\n",
            "Epoch: 5/5, Train Loss: 0.0041, Train Accuracy: 100.00%\n",
            "\n",
            "Test after the training of the experience with class:  [1, 4]\n",
            "Starting the testing...\n",
            "Testing task  0\n",
            "Classes in this task: [1, 4]\n",
            "Test Loss: 1.0143, Test Accuracy: 78.13%\n",
            "Testing task  1\n",
            "Classes in this task: [5, 7]\n",
            "Test Loss: 11.6001, Test Accuracy: 0.00%\n",
            "Testing task  2\n",
            "Classes in this task: [9, 3]\n",
            "Test Loss: 14.2681, Test Accuracy: 0.00%\n",
            "Testing task  3\n",
            "Classes in this task: [0, 8]\n",
            "Test Loss: 12.6033, Test Accuracy: 0.00%\n",
            "Testing task  4\n",
            "Classes in this task: [2, 6]\n",
            "Test Loss: 14.5151, Test Accuracy: 0.00%\n",
            "Average accuracy: 15.63%\n",
            "-----------------------------------------------------------------------------------\n",
            "Training of the experience with class:  [5, 7]\n",
            "Epoch: 1/5, Train Loss: 2.9317, Train Accuracy: 89.76%\n",
            "Epoch: 2/5, Train Loss: 0.1589, Train Accuracy: 99.00%\n",
            "Epoch: 3/5, Train Loss: 0.0398, Train Accuracy: 99.69%\n",
            "Epoch: 4/5, Train Loss: 0.0036, Train Accuracy: 100.00%\n",
            "Epoch: 5/5, Train Loss: 0.0012, Train Accuracy: 100.00%\n",
            "\n",
            "Test after the training of the experience with class:  [5, 7]\n",
            "Starting the testing...\n",
            "Testing task  0\n",
            "Classes in this task: [1, 4]\n",
            "Test Loss: 0.1032, Test Accuracy: 98.19%\n",
            "Testing task  1\n",
            "Classes in this task: [5, 7]\n",
            "Test Loss: 0.1108, Test Accuracy: 97.46%\n",
            "Testing task  2\n",
            "Classes in this task: [9, 3]\n",
            "Test Loss: 12.3374, Test Accuracy: 0.00%\n",
            "Testing task  3\n",
            "Classes in this task: [0, 8]\n",
            "Test Loss: 13.7571, Test Accuracy: 0.00%\n",
            "Testing task  4\n",
            "Classes in this task: [2, 6]\n",
            "Test Loss: 9.0683, Test Accuracy: 0.00%\n",
            "Average accuracy: 39.13%\n",
            "-----------------------------------------------------------------------------------\n",
            "Training of the experience with class:  [9, 3]\n",
            "Epoch: 1/5, Train Loss: 2.8379, Train Accuracy: 88.70%\n",
            "Epoch: 2/5, Train Loss: 0.4593, Train Accuracy: 97.16%\n",
            "Epoch: 3/5, Train Loss: 0.1708, Train Accuracy: 98.79%\n",
            "Epoch: 4/5, Train Loss: 0.0531, Train Accuracy: 99.79%\n",
            "Epoch: 5/5, Train Loss: 0.0174, Train Accuracy: 100.00%\n",
            "\n",
            "Test after the training of the experience with class:  [9, 3]\n",
            "Starting the testing...\n",
            "Testing task  0\n",
            "Classes in this task: [1, 4]\n",
            "Test Loss: 0.1419, Test Accuracy: 96.61%\n",
            "Testing task  1\n",
            "Classes in this task: [5, 7]\n",
            "Test Loss: 0.3831, Test Accuracy: 92.99%\n",
            "Testing task  2\n",
            "Classes in this task: [9, 3]\n",
            "Test Loss: 0.3296, Test Accuracy: 93.82%\n",
            "Testing task  3\n",
            "Classes in this task: [0, 8]\n",
            "Test Loss: 9.9572, Test Accuracy: 0.00%\n",
            "Testing task  4\n",
            "Classes in this task: [2, 6]\n",
            "Test Loss: 9.7260, Test Accuracy: 0.00%\n",
            "Average accuracy: 56.69%\n",
            "-----------------------------------------------------------------------------------\n",
            "Training of the experience with class:  [0, 8]\n",
            "Epoch: 1/5, Train Loss: 2.7621, Train Accuracy: 86.44%\n",
            "Epoch: 2/5, Train Loss: 0.5881, Train Accuracy: 96.32%\n",
            "Epoch: 3/5, Train Loss: 0.1598, Train Accuracy: 99.11%\n",
            "Epoch: 4/5, Train Loss: 0.0426, Train Accuracy: 99.84%\n",
            "Epoch: 5/5, Train Loss: 0.0137, Train Accuracy: 100.00%\n",
            "\n",
            "Test after the training of the experience with class:  [0, 8]\n",
            "Starting the testing...\n",
            "Testing task  0\n",
            "Classes in this task: [1, 4]\n",
            "Test Loss: 0.1908, Test Accuracy: 96.05%\n",
            "Testing task  1\n",
            "Classes in this task: [5, 7]\n",
            "Test Loss: 0.3774, Test Accuracy: 92.02%\n",
            "Testing task  2\n",
            "Classes in this task: [9, 3]\n",
            "Test Loss: 0.4478, Test Accuracy: 92.13%\n",
            "Testing task  3\n",
            "Classes in this task: [0, 8]\n",
            "Test Loss: 0.4368, Test Accuracy: 91.08%\n",
            "Testing task  4\n",
            "Classes in this task: [2, 6]\n",
            "Test Loss: 11.1617, Test Accuracy: 0.00%\n",
            "Average accuracy: 74.26%\n",
            "-----------------------------------------------------------------------------------\n",
            "Training of the experience with class:  [2, 6]\n",
            "Epoch: 1/5, Train Loss: 3.0223, Train Accuracy: 87.29%\n",
            "Epoch: 2/5, Train Loss: 0.8195, Train Accuracy: 95.01%\n",
            "Epoch: 3/5, Train Loss: 0.3886, Train Accuracy: 97.48%\n",
            "Epoch: 4/5, Train Loss: 0.1536, Train Accuracy: 99.11%\n",
            "Epoch: 5/5, Train Loss: 0.0665, Train Accuracy: 99.68%\n",
            "\n",
            "Test after the training of the experience with class:  [2, 6]\n",
            "Starting the testing...\n",
            "Testing task  0\n",
            "Classes in this task: [1, 4]\n",
            "Test Loss: 0.2476, Test Accuracy: 94.95%\n",
            "Testing task  1\n",
            "Classes in this task: [5, 7]\n",
            "Test Loss: 0.4519, Test Accuracy: 89.53%\n",
            "Testing task  2\n",
            "Classes in this task: [9, 3]\n",
            "Test Loss: 0.3979, Test Accuracy: 92.29%\n",
            "Testing task  3\n",
            "Classes in this task: [0, 8]\n",
            "Test Loss: 0.4809, Test Accuracy: 90.30%\n",
            "Testing task  4\n",
            "Classes in this task: [2, 6]\n",
            "Test Loss: 0.1968, Test Accuracy: 94.97%\n",
            "Average accuracy: 92.41%\n",
            "-----------------------------------------------------------------------------------\n",
            "Starting the testing...\n",
            "Testing task  0\n",
            "Classes in this task: [1, 4]\n",
            "Test Loss: 0.1770, Test Accuracy: 95.65%\n",
            "Testing task  1\n",
            "Classes in this task: [5, 7]\n",
            "Test Loss: 0.4727, Test Accuracy: 89.43%\n",
            "Testing task  2\n",
            "Classes in this task: [9, 3]\n",
            "Test Loss: 0.3644, Test Accuracy: 92.72%\n",
            "Testing task  3\n",
            "Classes in this task: [0, 8]\n",
            "Test Loss: 0.4328, Test Accuracy: 89.97%\n",
            "Testing task  4\n",
            "Classes in this task: [2, 6]\n",
            "Test Loss: 0.2318, Test Accuracy: 94.42%\n",
            "Average accuracy: 92.44%\n"
          ]
        }
      ],
      "source": [
        "from avalanche.models import MobilenetV1\n",
        "#model4 = SimpleMLP(num_classes=10).to(device)\n",
        "model4 = PhiNet_v2(pretrained=\"./TestModel/7_Layers/Adam.pth\", device = device, num_layers= 7, latent_layer_num=6).to(device)\n",
        "#model4 = MobilenetV1(pretrained=True, latent_layer_num=20)\n",
        "#optimizer4 = SGD(model4.parameters(), lr=0.01, momentum=0.9)\n",
        "optimizer4 = Adam(model4.parameters(), lr=0.01, weight_decay=0)\n",
        "\n",
        "train_epochs = 5\n",
        "\n",
        "latent_replay = LatentReplay(\n",
        "    model=model4,\n",
        "    optimizer=optimizer4,\n",
        "    criterion=criterion,\n",
        "    train_mb_size=21,\n",
        "    replay_mb_size = 107,\n",
        "    train_epochs=train_epochs,\n",
        "    eval_mb_size=128,\n",
        "    rm_size = 1500,\n",
        "    device=device\n",
        ")\n",
        "\n",
        "latent_replay.train(train_stream)\n",
        "latent_replay.test(test_stream)"
      ]
    }
  ],
  "metadata": {
    "accelerator": "GPU",
    "colab": {
      "gpuType": "T4",
      "provenance": [],
      "toc_visible": true
    },
    "kernelspec": {
      "display_name": "Python 3",
      "name": "python3"
    },
    "language_info": {
      "codemirror_mode": {
        "name": "ipython",
        "version": 3
      },
      "file_extension": ".py",
      "mimetype": "text/x-python",
      "name": "python",
      "nbconvert_exporter": "python",
      "pygments_lexer": "ipython3",
      "version": "3.10.9"
    },
    "orig_nbformat": 4
  },
  "nbformat": 4,
  "nbformat_minor": 0
}
