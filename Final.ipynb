{
  "cells": [
    {
      "cell_type": "markdown",
      "metadata": {
        "id": "dwj4CkTzzcWr"
      },
      "source": [
        "# CL Test"
      ]
    },
    {
      "cell_type": "markdown",
      "metadata": {
        "id": "XPXJaZZjzcWu"
      },
      "source": [
        "## Installation\n",
        "Install all the necessary library."
      ]
    },
    {
      "cell_type": "code",
      "execution_count": null,
      "metadata": {
        "colab": {
          "base_uri": "https://localhost:8080/"
        },
        "id": "WzF55R6dzcWv",
        "outputId": "d65bed89-f433-46e7-b780-98c68180e51c"
      },
      "outputs": [],
      "source": [
        "! pip install avalanche-lib==0.3.1\n",
        "! pip install micromind"
      ]
    },
    {
      "cell_type": "code",
      "execution_count": null,
      "metadata": {
        "colab": {
          "base_uri": "https://localhost:8080/"
        },
        "id": "-E3yHNRPzcWw",
        "outputId": "b9bbc510-11f7-4381-d4dc-5cfb5c67f2a3"
      },
      "outputs": [],
      "source": [
        "import torch\n",
        "import torch.nn as nn\n",
        "from torch.optim import SGD, Adam\n",
        "\n",
        "import numpy as np\n",
        "import matplotlib.pyplot as plt\n",
        "\n",
        "from avalanche.benchmarks.classic import SplitMNIST, SplitCIFAR10\n",
        "from avalanche.models import SimpleMLP\n",
        "from avalanche.training.storage_policy import ReservoirSamplingBuffer\n",
        "\n",
        "\n",
        "from strategy.joint_training import JointTraining\n",
        "from strategy.fine_tuning import FineTuning\n",
        "from strategy.comulative import Comulative\n",
        "from strategy.replay import Replay\n",
        "from strategy.latent_replay import LatentReplay\n",
        "from phinet_v2 import PhiNet_v2\n",
        "from phinet_v3 import PhiNet_v3\n",
        "import utils\n",
        "\n",
        "from micromind import PhiNet\n",
        "\n",
        "device = torch.device(\"cuda\" if torch.cuda.is_available() else \"cpu\")\n",
        "print(f\"Device: {device}\")\n",
        "\n",
        "torch.manual_seed(0)"
      ]
    },
    {
      "cell_type": "markdown",
      "metadata": {
        "id": "5KDShngxzcWy"
      },
      "source": [
        "## Benchmark"
      ]
    },
    {
      "cell_type": "code",
      "execution_count": null,
      "metadata": {
        "colab": {
          "base_uri": "https://localhost:8080/"
        },
        "id": "6i52l8jKzcWy",
        "outputId": "668663c0-52d7-4877-a8d0-d8de1fc5a070"
      },
      "outputs": [],
      "source": [
        "split_mnist = SplitMNIST(n_experiences=5, seed=0, return_task_id = True)\n",
        "\n",
        "import torchvision\n",
        "import torchvision.transforms as transforms\n",
        "transform = transforms.Compose([\n",
        "    torchvision.transforms.ToTensor(),\n",
        "    torchvision.transforms.Resize((160, 160))\n",
        "])\n",
        "\n",
        "split_cifar = SplitCIFAR10(n_experiences=5, seed=0, return_task_id = True, train_transform = transform, eval_transform = transform)\n",
        "\n",
        "# recovering the train and test streams\n",
        "train_stream = split_mnist.train_stream\n",
        "test_stream = split_mnist.test_stream"
      ]
    },
    {
      "cell_type": "code",
      "execution_count": null,
      "metadata": {
        "colab": {
          "base_uri": "https://localhost:8080/",
          "height": 1000
        },
        "id": "5L7IPziq65jv",
        "outputId": "4ab47d92-b0b1-4db2-af44-67e2ed3a6a07"
      },
      "outputs": [],
      "source": [
        "# Function to display images\n",
        "def show_images(images, labels, num_images=5):\n",
        "    fig, axes = plt.subplots(1, num_images, figsize=(15, 3))\n",
        "\n",
        "    for i in range(num_images):\n",
        "        img = np.transpose(images[i].numpy(), (1, 2, 0))\n",
        "        label = labels[i]\n",
        "        axes[i].imshow(img)\n",
        "        axes[i].set_title(f\"Label: {label}\")\n",
        "        axes[i].axis('off')\n",
        "\n",
        "    plt.show()\n",
        "class_names = ['airplane', 'automobile', 'bird', 'cat', 'deer',\n",
        "               'dog', 'frog', 'horse', 'ship', 'truck']\n",
        "num_images_to_show = 5\n",
        "for exp in train_stream:\n",
        "    indices = np.random.randint(0, len(exp.dataset), num_images_to_show)\n",
        "    images = [exp.dataset[i][0] for i in indices]\n",
        "    labels = [class_names[exp.dataset[i][1]] for i in indices]\n",
        "    print(images[0].shape)\n",
        "    # Show the images\n",
        "    show_images(images, labels, 5)"
      ]
    },
    {
      "cell_type": "markdown",
      "metadata": {
        "id": "GApUVD8lzcWz"
      },
      "source": [
        "## Training"
      ]
    },
    {
      "cell_type": "markdown",
      "metadata": {
        "id": "6qwiSC9dzcW0"
      },
      "source": [
        "### Training Parameters"
      ]
    },
    {
      "cell_type": "code",
      "execution_count": null,
      "metadata": {
        "id": "AvfBVXfazcW1"
      },
      "outputs": [],
      "source": [
        "criterion = nn.CrossEntropyLoss()\n",
        "\n",
        "# Define other necessary parameters\n",
        "train_mb_size = 128\n",
        "eval_mb_size = 128\n",
        "\n",
        "accs = dict()"
      ]
    },
    {
      "cell_type": "markdown",
      "metadata": {
        "id": "NWJxGNh9zcW2"
      },
      "source": [
        "### Fine Tuning Strategy"
      ]
    },
    {
      "cell_type": "code",
      "execution_count": null,
      "metadata": {
        "colab": {
          "base_uri": "https://localhost:8080/",
          "height": 467
        },
        "id": "vJFWY3eVzcW2",
        "outputId": "4b52800b-279b-4dfd-bd63-31ec216d6370"
      },
      "outputs": [],
      "source": [
        "model1 = PhiNet(input_shape = (1, 28, 28), alpha = 0.5, beta = 1, t_zero = 6,num_layers=7 ,include_top = True, num_classes = 10).to(device)\n",
        "#model1 = PhiNet.from_pretrained(\"CIFAR-10\", 3.0, 0.75, 6.0, 7, 160, classifier=True).to(device)\n",
        "optimizer1 = Adam(model1.parameters(), lr=0.01, weight_decay=0)\n",
        "\n",
        "train_epochs = 4\n",
        "\n",
        "fine_tuning = FineTuning(\n",
        "    model=model1,\n",
        "    optimizer=optimizer1,\n",
        "    criterion=criterion,\n",
        "    train_mb_size=train_mb_size,\n",
        "    train_epochs=train_epochs,\n",
        "    eval_mb_size=eval_mb_size,\n",
        "    device=device\n",
        ")\n",
        "\n",
        "fine_tuning.train(train_stream, test_stream, plotting=True)\n",
        "b,c = fine_tuning.test(test_stream)\n",
        "a = fine_tuning.get_tasks_acc()\n",
        "accs['Fine Tuning'] = a\n",
        "print(f\"a: {a}, b: {b}, c: {c}\")\n"
      ]
    },
    {
      "cell_type": "markdown",
      "metadata": {
        "id": "S-tRVDugzcW3"
      },
      "source": [
        "### Joint Training Strategy"
      ]
    },
    {
      "cell_type": "code",
      "execution_count": null,
      "metadata": {
        "id": "wsNBEspqzcW4"
      },
      "outputs": [],
      "source": [
        "model2 = PhiNet(input_shape = (1, 28, 28), alpha = 0.5, beta = 1, t_zero = 6,num_layers=7 ,include_top = True, num_classes = 10).to(device)\n",
        "#model2 = PhiNet.from_pretrained(\"CIFAR-10\", 3.0, 0.75, 6.0, 7, 160, classifier=True).to(device)\n",
        "optimizer2 = Adam(model2.parameters(), lr=0.01, weight_decay=0)\n",
        "\n",
        "train_epochs = 4\n",
        "\n",
        "joint_training = JointTraining(\n",
        "    model=model2,\n",
        "    optimizer=optimizer2,\n",
        "    criterion=criterion,\n",
        "    train_mb_size=train_mb_size,\n",
        "    train_epochs=train_epochs,\n",
        "    eval_mb_size=eval_mb_size,\n",
        "    device=device\n",
        ")\n",
        "\n",
        "joint_training.train(train_stream, test_stream, plotting=True)\n",
        "b,c = joint_training.test(test_stream)\n",
        "a = joint_training.get_tasks_acc()\n",
        "\n",
        "print(f\"a: {a}, b: {b}, c: {c}\")"
      ]
    },
    {
      "cell_type": "markdown",
      "metadata": {
        "id": "ggTVXamGzcW4"
      },
      "source": [
        "### Comulative Strategy"
      ]
    },
    {
      "cell_type": "code",
      "execution_count": null,
      "metadata": {
        "id": "I2HgeprNzcW5"
      },
      "outputs": [],
      "source": [
        "model3 = PhiNet(input_shape = (1, 28, 28), alpha = 0.5, beta = 1, t_zero = 6,num_layers=7 ,include_top = True, num_classes = 10).to(device)\n",
        "#model3 = PhiNet.from_pretrained(\"CIFAR-10\", 3.0, 0.75, 6.0, 7, 160, classifier=True).to(device)\n",
        "\n",
        "optimizer3 = Adam(model3.parameters(), lr=0.01, weight_decay=0)\n",
        "\n",
        "train_epochs = 4\n",
        "\n",
        "comulative = Comulative(\n",
        "    model=model3,\n",
        "    optimizer=optimizer3,\n",
        "    criterion=criterion,\n",
        "    train_mb_size=train_mb_size,\n",
        "    train_epochs=train_epochs,\n",
        "    eval_mb_size=eval_mb_size,\n",
        "    device=device\n",
        ")\n",
        "\n",
        "comulative.train(train_stream, test_stream, plotting=True)\n",
        "b,c = comulative.test(test_stream)\n",
        "a = comulative.get_tasks_acc()\n",
        "accs['Comulative'] = a\n",
        "print(f\"a: {a}, b: {b}, c: {c}\")"
      ]
    },
    {
      "cell_type": "markdown",
      "metadata": {
        "id": "3tS1PK2uzcW6"
      },
      "source": [
        "### Replay Strategy"
      ]
    },
    {
      "cell_type": "code",
      "execution_count": null,
      "metadata": {
        "id": "eE0_3a8DzcW6"
      },
      "outputs": [],
      "source": [
        "model4 = PhiNet(input_shape = (1, 28, 28), alpha = 0.5, beta = 1, t_zero = 6,num_layers=7 ,include_top = True, num_classes = 10).to(device)\n",
        "#model4 = PhiNet.from_pretrained(\"CIFAR-10\", 3.0, 0.75, 6.0, 7, 160, classifier=True).to(device)\n",
        "\n",
        "optimizer4 = Adam(model4.parameters(), lr=0.01, weight_decay=0)\n",
        "\n",
        "storage_p = ReservoirSamplingBuffer(max_size=1500)\n",
        "\n",
        "train_epochs = 4\n",
        "\n",
        "replay = Replay(\n",
        "    model=model4,\n",
        "    optimizer=optimizer4,\n",
        "    criterion=criterion,\n",
        "    train_mb_size=train_mb_size,\n",
        "    train_epochs=train_epochs,\n",
        "    eval_mb_size=eval_mb_size,\n",
        "    storage_policy = storage_p,\n",
        "    device=device\n",
        ")\n",
        "\n",
        "replay.train(train_stream, test_stream, plotting=True)\n",
        "b,c = replay.test(test_stream)\n",
        "a = replay.get_tasks_acc()\n",
        "accs['ExpReplay'] = a\n",
        "print(f\"a: {a}, b: {b}, c: {c}\")"
      ]
    },
    {
      "cell_type": "markdown",
      "metadata": {
        "id": "rZ7gVY7H9moR"
      },
      "source": [
        "### Latent Replay Strategy"
      ]
    },
    {
      "cell_type": "code",
      "execution_count": null,
      "metadata": {
        "id": "qextF3Z99moR"
      },
      "outputs": [],
      "source": [
        "from avalanche.evaluation.metrics import ElapsedTime\n",
        "\n",
        "model4 = PhiNet_v2(pretrained=\"Adam.pth\", device = device, num_layers= 7, latent_layer_num=9).to(device)\n",
        "#model4 = PhiNet.from_pretrained(\"CIFAR-10\", 3.0, 0.75, 6.0, 7, 160, classifier=False).to(device)\n",
        "#model4 = PhiNet_v3(model4, latent_layer_num = 9).to(device)\n",
        "optimizer4 = Adam(model4.parameters(), lr=0.01, weight_decay=0)\n",
        "\n",
        "train_epochs = 4\n",
        "\n",
        "t = ElapsedTime()\n",
        "\n",
        "latent_replay = LatentReplay(\n",
        "    model = model4,\n",
        "    optimizer = optimizer4,\n",
        "    criterion = criterion,\n",
        "    train_mb_size = 21,\n",
        "    replay_mb_size = 107,\n",
        "    train_epochs = train_epochs,\n",
        "    eval_mb_size = eval_mb_size,\n",
        "    rm_size = 1500,\n",
        "    manual_mb = True,\n",
        "    device = device\n",
        ")\n",
        "t.update()\n",
        "latent_replay.train(train_stream, test_stream, plotting=True)\n",
        "t.update()\n",
        "print(f\"Training time: {t.result():.2f} s\")\n",
        "b,c = latent_replay.test(test_stream)\n",
        "a = latent_replay.get_tasks_acc()\n",
        "accs['LatentReplay'] = a\n",
        "print(f\"a: {a}, b: {b}, c: {c}\")\n",
        "\n",
        "mac = utils.get_MAC(model4, (1,28,28))\n",
        "print(f\"MAC: {mac}\")"
      ]
    },
    {
      "cell_type": "code",
      "execution_count": null,
      "metadata": {
        "id": "4MxjpyeI65j1"
      },
      "outputs": [],
      "source": [
        "utils.plot_accs(accs)"
      ]
    }
  ],
  "metadata": {
    "accelerator": "GPU",
    "colab": {
      "gpuType": "T4",
      "provenance": []
    },
    "kernelspec": {
      "display_name": "Python 3",
      "name": "python3"
    },
    "language_info": {
      "codemirror_mode": {
        "name": "ipython",
        "version": 3
      },
      "file_extension": ".py",
      "mimetype": "text/x-python",
      "name": "python",
      "nbconvert_exporter": "python",
      "pygments_lexer": "ipython3",
      "version": "3.10.9"
    },
    "orig_nbformat": 4
  },
  "nbformat": 4,
  "nbformat_minor": 0
}
